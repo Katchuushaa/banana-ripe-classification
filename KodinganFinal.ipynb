{
 "cells": [
  {
   "cell_type": "code",
   "execution_count": 2,
   "id": "91f4d0b7",
   "metadata": {},
   "outputs": [],
   "source": [
    "import os\n",
    "import shutil\n",
    "import random\n",
    "import numpy as np \n",
    "import pandas as pd \n",
    "import matplotlib.pyplot as plt\n",
    "from matplotlib.offsetbox import OffsetImage, AnnotationBbox\n",
    "%matplotlib inline\n",
    "import tensorflow as tf\n",
    "import keras\n",
    "import glob\n",
    "import cv2\n",
    "from keras.models import Sequential\n",
    "from keras.layers import Dense, Dropout, Flatten, Conv2D, MaxPooling2D\n",
    "from keras.layers import LSTM, Input, TimeDistributed\n",
    "from keras.models import Model\n",
    "from keras.optimizers import RMSprop, SGD"
   ]
  },
  {
   "cell_type": "code",
   "execution_count": 3,
   "id": "10c301e8",
   "metadata": {},
   "outputs": [
    {
     "name": "stdout",
     "output_type": "stream",
     "text": [
      "D:\\Kuliah\\Semester 6\\PCD\\Tugas Akhir\n"
     ]
    }
   ],
   "source": [
    "print(os.getcwd())"
   ]
  },
  {
   "cell_type": "markdown",
   "id": "971d8f3a",
   "metadata": {},
   "source": [
    "## SPLIT DATA VERSI 1.0"
   ]
  },
  {
   "cell_type": "code",
   "execution_count": 4,
   "id": "50b89f05",
   "metadata": {},
   "outputs": [
    {
     "name": "stdout",
     "output_type": "stream",
     "text": [
      "Data berhasil dibagi menjadi folder pelatihan dan pengujian.\n",
      "Jumlah data pelatihan: 945\n",
      "Jumlah data pengujian: 237\n"
     ]
    }
   ],
   "source": [
    "folder_path = '../Tugas Akhir/tes2/dataset'  # Path folder yang berisi gambar\n",
    "training_path= '../Tugas Akhir/tes2/training'  # Path folder untuk data pelatihan\n",
    "testing_path = '../Tugas Akhir/tes2/testing'  # Path folder untuk data pengujian\n",
    "split_ratio = 0.8  # Rasio pembagian data (misalnya 0.8 berarti 80% pelatihan dan 20% pengujian)\n",
    "\n",
    "# Membuat folder untuk data pelatihan dan pengujian jika belum ada\n",
    "# os.makedirs(training, exist_ok=True)\n",
    "# os.makedirs(testing, exist_ok=True)\n",
    "\n",
    "# Mengambil daftar nama file gambar dalam folder\n",
    "img_files = os.listdir(folder_path)\n",
    "\n",
    "# Mengacak urutan file gambar\n",
    "random.shuffle(img_files)\n",
    "\n",
    "# # Menghitung jumlah data untuk pelatihan dan pengujian berdasarkan rasio pembagian\n",
    "train_count = int(len(img_files) * split_ratio)\n",
    "test_count = len(img_files) - train_count\n",
    "\n",
    "# # # Memindahkan data gambar ke folder pelatihan dan pengujian\n",
    "# for i, filename in enumerate(img_files):\n",
    "#     src_path = os.path.join(folder_path, filename)\n",
    "#     if i < train_count:\n",
    "#         dst_path = os.path.join(training_path, filename)\n",
    "#     else:\n",
    "#         dst_path = os.path.join(testing_path, filename)\n",
    "#     shutil.copy(src_path, dst_path)\n",
    "\n",
    "print('Data berhasil dibagi menjadi folder pelatihan dan pengujian.')\n",
    "print('Jumlah data pelatihan:', train_count)\n",
    "print('Jumlah data pengujian:', test_count)"
   ]
  },
  {
   "cell_type": "markdown",
   "id": "1967fa81",
   "metadata": {},
   "source": [
    "## VERSI 1.0 : SPLIT DULU BARU DIUBAH JADI ARRAY  (RGB SAJA)"
   ]
  },
  {
   "cell_type": "code",
   "execution_count": 26,
   "id": "0c480dcd",
   "metadata": {},
   "outputs": [],
   "source": [
    "#TRAINING IMAGE\n",
    "#ekstrak fitur\n",
    "train_img=[]     \n",
    "for i in os.listdir(training_path):\n",
    "    img=cv2.imread(os.path.join(training_path,i))  #gabungin setiap foto dari path training \n",
    "    img = cv2.cvtColor(img, cv2.COLOR_RGB2BGR)\n",
    "    resized=cv2.resize(img,(120,120))   #resize semua gambarnya\n",
    "\n",
    "    train_img.append(resized)\n",
    "train_img = np.array(train_img)\n",
    "\n",
    "#ekstrak label\n",
    "train_label=[]\n",
    "for i in os.listdir(training_path):\n",
    "    if i.split(\" \")[0] == \"underripe\":\n",
    "        train_label.append(0)\n",
    "    elif i.split(\" \")[0] ==\"ripe\":\n",
    "        train_label.append(1)\n",
    "    elif i.split(\" \")[0] == \"overripe\":\n",
    "        train_label.append(2)\n",
    "train_label = np.array(train_label)"
   ]
  },
  {
   "cell_type": "code",
   "execution_count": 27,
   "id": "03db2746",
   "metadata": {},
   "outputs": [
    {
     "name": "stdout",
     "output_type": "stream",
     "text": [
      "(945, 120, 120, 3)\n",
      "(945,)\n"
     ]
    }
   ],
   "source": [
    "print(train_img.shape)\n",
    "print(train_label.shape)"
   ]
  },
  {
   "cell_type": "code",
   "execution_count": 6,
   "id": "f055e69f",
   "metadata": {},
   "outputs": [],
   "source": [
    "#TESTING IMAGE\n",
    "#ekstrak fitur\n",
    "test_img=[]     \n",
    "for i in os.listdir(testing_path):\n",
    "    img=cv2.imread(os.path.join(testing_path,i))  #gabungin setiap foto dari path testing \n",
    "    img = cv2.cvtColor(img, cv2.COLOR_RGB2BGR)\n",
    "    resized=cv2.resize(img,(120,120))   #resize semua gambarnya\n",
    "\n",
    "    test_img.append(resized)\n",
    "test_img = np.array(test_img)\n",
    "\n",
    "#ekstrak label\n",
    "test_label=[]\n",
    "for i in os.listdir(testing_path):\n",
    "    if i.split(\" \")[0] == \"underripe\":\n",
    "        test_label.append(0)\n",
    "    elif i.split(\" \")[0] ==\"ripe\":\n",
    "        test_label.append(1)\n",
    "    elif i.split(\" \")[0] == \"overripe\":\n",
    "        test_label.append(2)\n",
    "test_label = np.array(test_label)"
   ]
  },
  {
   "cell_type": "code",
   "execution_count": 30,
   "id": "13b4b484",
   "metadata": {},
   "outputs": [
    {
     "name": "stdout",
     "output_type": "stream",
     "text": [
      "(237, 120, 120, 3)\n",
      "(237,)\n"
     ]
    }
   ],
   "source": [
    "print(test_img.shape)\n",
    "print(test_label.shape)"
   ]
  },
  {
   "cell_type": "code",
   "execution_count": 63,
   "id": "e1396323",
   "metadata": {},
   "outputs": [
    {
     "name": "stdout",
     "output_type": "stream",
     "text": [
      "Original Sizes: (947, 120, 120, 3) (237, 120, 120, 3) (947,) (237,)\n"
     ]
    }
   ],
   "source": [
    "#DATA SPLITING\n",
    "Xtrain, Xtest = train_img, test_img\n",
    "Ytrain, Ytest = train_label, test_label\n",
    "\n",
    "# Xtrain = Xtrain/255\n",
    "# Xtest = Xtest/255\n",
    "\n",
    "# #Make a flattened version for some of our models\n",
    "# Xflat_train = Xtrain.reshape(Xtrain.shape[0], 120*120*3)\n",
    "# Xflat_test = Xtest.reshape(Xtest.shape[0], 120*120*3)\n",
    "\n",
    "print('Original Sizes:', Xtrain.shape, Xtest.shape, Ytrain.shape, Ytest.shape)\n",
    "# print('Flattened:', Xflat_train.shape, Xflat_test.shape)"
   ]
  },
  {
   "cell_type": "code",
   "execution_count": 71,
   "id": "505ed538",
   "metadata": {},
   "outputs": [],
   "source": [
    "#Reshape\n",
    "Xtr = Xtrain.reshape(947,43200)\n",
    "#Reshape\n",
    "Xts = Xtest.reshape(237,43200)"
   ]
  },
  {
   "cell_type": "code",
   "execution_count": 72,
   "id": "d5cd1f40",
   "metadata": {},
   "outputs": [
    {
     "data": {
      "text/plain": [
       "(947, 43200)"
      ]
     },
     "execution_count": 72,
     "metadata": {},
     "output_type": "execute_result"
    }
   ],
   "source": [
    "Xtr.shape"
   ]
  },
  {
   "cell_type": "code",
   "execution_count": 43,
   "id": "1d0f2b74",
   "metadata": {},
   "outputs": [
    {
     "data": {
      "text/plain": [
       "43200"
      ]
     },
     "execution_count": 43,
     "metadata": {},
     "output_type": "execute_result"
    }
   ],
   "source": [
    "120*120*3"
   ]
  },
  {
   "cell_type": "code",
   "execution_count": 73,
   "id": "02e9a06d",
   "metadata": {},
   "outputs": [
    {
     "data": {
      "text/html": [
       "<style>#sk-container-id-3 {color: black;background-color: white;}#sk-container-id-3 pre{padding: 0;}#sk-container-id-3 div.sk-toggleable {background-color: white;}#sk-container-id-3 label.sk-toggleable__label {cursor: pointer;display: block;width: 100%;margin-bottom: 0;padding: 0.3em;box-sizing: border-box;text-align: center;}#sk-container-id-3 label.sk-toggleable__label-arrow:before {content: \"▸\";float: left;margin-right: 0.25em;color: #696969;}#sk-container-id-3 label.sk-toggleable__label-arrow:hover:before {color: black;}#sk-container-id-3 div.sk-estimator:hover label.sk-toggleable__label-arrow:before {color: black;}#sk-container-id-3 div.sk-toggleable__content {max-height: 0;max-width: 0;overflow: hidden;text-align: left;background-color: #f0f8ff;}#sk-container-id-3 div.sk-toggleable__content pre {margin: 0.2em;color: black;border-radius: 0.25em;background-color: #f0f8ff;}#sk-container-id-3 input.sk-toggleable__control:checked~div.sk-toggleable__content {max-height: 200px;max-width: 100%;overflow: auto;}#sk-container-id-3 input.sk-toggleable__control:checked~label.sk-toggleable__label-arrow:before {content: \"▾\";}#sk-container-id-3 div.sk-estimator input.sk-toggleable__control:checked~label.sk-toggleable__label {background-color: #d4ebff;}#sk-container-id-3 div.sk-label input.sk-toggleable__control:checked~label.sk-toggleable__label {background-color: #d4ebff;}#sk-container-id-3 input.sk-hidden--visually {border: 0;clip: rect(1px 1px 1px 1px);clip: rect(1px, 1px, 1px, 1px);height: 1px;margin: -1px;overflow: hidden;padding: 0;position: absolute;width: 1px;}#sk-container-id-3 div.sk-estimator {font-family: monospace;background-color: #f0f8ff;border: 1px dotted black;border-radius: 0.25em;box-sizing: border-box;margin-bottom: 0.5em;}#sk-container-id-3 div.sk-estimator:hover {background-color: #d4ebff;}#sk-container-id-3 div.sk-parallel-item::after {content: \"\";width: 100%;border-bottom: 1px solid gray;flex-grow: 1;}#sk-container-id-3 div.sk-label:hover label.sk-toggleable__label {background-color: #d4ebff;}#sk-container-id-3 div.sk-serial::before {content: \"\";position: absolute;border-left: 1px solid gray;box-sizing: border-box;top: 0;bottom: 0;left: 50%;z-index: 0;}#sk-container-id-3 div.sk-serial {display: flex;flex-direction: column;align-items: center;background-color: white;padding-right: 0.2em;padding-left: 0.2em;position: relative;}#sk-container-id-3 div.sk-item {position: relative;z-index: 1;}#sk-container-id-3 div.sk-parallel {display: flex;align-items: stretch;justify-content: center;background-color: white;position: relative;}#sk-container-id-3 div.sk-item::before, #sk-container-id-3 div.sk-parallel-item::before {content: \"\";position: absolute;border-left: 1px solid gray;box-sizing: border-box;top: 0;bottom: 0;left: 50%;z-index: -1;}#sk-container-id-3 div.sk-parallel-item {display: flex;flex-direction: column;z-index: 1;position: relative;background-color: white;}#sk-container-id-3 div.sk-parallel-item:first-child::after {align-self: flex-end;width: 50%;}#sk-container-id-3 div.sk-parallel-item:last-child::after {align-self: flex-start;width: 50%;}#sk-container-id-3 div.sk-parallel-item:only-child::after {width: 0;}#sk-container-id-3 div.sk-dashed-wrapped {border: 1px dashed gray;margin: 0 0.4em 0.5em 0.4em;box-sizing: border-box;padding-bottom: 0.4em;background-color: white;}#sk-container-id-3 div.sk-label label {font-family: monospace;font-weight: bold;display: inline-block;line-height: 1.2em;}#sk-container-id-3 div.sk-label-container {text-align: center;}#sk-container-id-3 div.sk-container {/* jupyter's `normalize.less` sets `[hidden] { display: none; }` but bootstrap.min.css set `[hidden] { display: none !important; }` so we also need the `!important` here to be able to override the default hidden behavior on the sphinx rendered scikit-learn.org. See: https://github.com/scikit-learn/scikit-learn/issues/21755 */display: inline-block !important;position: relative;}#sk-container-id-3 div.sk-text-repr-fallback {display: none;}</style><div id=\"sk-container-id-3\" class=\"sk-top-container\"><div class=\"sk-text-repr-fallback\"><pre>RandomForestClassifier()</pre><b>In a Jupyter environment, please rerun this cell to show the HTML representation or trust the notebook. <br />On GitHub, the HTML representation is unable to render, please try loading this page with nbviewer.org.</b></div><div class=\"sk-container\" hidden><div class=\"sk-item\"><div class=\"sk-estimator sk-toggleable\"><input class=\"sk-toggleable__control sk-hidden--visually\" id=\"sk-estimator-id-3\" type=\"checkbox\" checked><label for=\"sk-estimator-id-3\" class=\"sk-toggleable__label sk-toggleable__label-arrow\">RandomForestClassifier</label><div class=\"sk-toggleable__content\"><pre>RandomForestClassifier()</pre></div></div></div></div></div>"
      ],
      "text/plain": [
       "RandomForestClassifier()"
      ]
     },
     "execution_count": 73,
     "metadata": {},
     "output_type": "execute_result"
    }
   ],
   "source": [
    "#MODELING RF\n",
    "from sklearn.ensemble import RandomForestClassifier\n",
    "rmodel=RandomForestClassifier()\n",
    "rmodel.fit(Xtr,Ytrain)"
   ]
  },
  {
   "cell_type": "code",
   "execution_count": 88,
   "id": "ecf81c44",
   "metadata": {},
   "outputs": [
    {
     "data": {
      "text/html": [
       "<style>#sk-container-id-4 {color: black;background-color: white;}#sk-container-id-4 pre{padding: 0;}#sk-container-id-4 div.sk-toggleable {background-color: white;}#sk-container-id-4 label.sk-toggleable__label {cursor: pointer;display: block;width: 100%;margin-bottom: 0;padding: 0.3em;box-sizing: border-box;text-align: center;}#sk-container-id-4 label.sk-toggleable__label-arrow:before {content: \"▸\";float: left;margin-right: 0.25em;color: #696969;}#sk-container-id-4 label.sk-toggleable__label-arrow:hover:before {color: black;}#sk-container-id-4 div.sk-estimator:hover label.sk-toggleable__label-arrow:before {color: black;}#sk-container-id-4 div.sk-toggleable__content {max-height: 0;max-width: 0;overflow: hidden;text-align: left;background-color: #f0f8ff;}#sk-container-id-4 div.sk-toggleable__content pre {margin: 0.2em;color: black;border-radius: 0.25em;background-color: #f0f8ff;}#sk-container-id-4 input.sk-toggleable__control:checked~div.sk-toggleable__content {max-height: 200px;max-width: 100%;overflow: auto;}#sk-container-id-4 input.sk-toggleable__control:checked~label.sk-toggleable__label-arrow:before {content: \"▾\";}#sk-container-id-4 div.sk-estimator input.sk-toggleable__control:checked~label.sk-toggleable__label {background-color: #d4ebff;}#sk-container-id-4 div.sk-label input.sk-toggleable__control:checked~label.sk-toggleable__label {background-color: #d4ebff;}#sk-container-id-4 input.sk-hidden--visually {border: 0;clip: rect(1px 1px 1px 1px);clip: rect(1px, 1px, 1px, 1px);height: 1px;margin: -1px;overflow: hidden;padding: 0;position: absolute;width: 1px;}#sk-container-id-4 div.sk-estimator {font-family: monospace;background-color: #f0f8ff;border: 1px dotted black;border-radius: 0.25em;box-sizing: border-box;margin-bottom: 0.5em;}#sk-container-id-4 div.sk-estimator:hover {background-color: #d4ebff;}#sk-container-id-4 div.sk-parallel-item::after {content: \"\";width: 100%;border-bottom: 1px solid gray;flex-grow: 1;}#sk-container-id-4 div.sk-label:hover label.sk-toggleable__label {background-color: #d4ebff;}#sk-container-id-4 div.sk-serial::before {content: \"\";position: absolute;border-left: 1px solid gray;box-sizing: border-box;top: 0;bottom: 0;left: 50%;z-index: 0;}#sk-container-id-4 div.sk-serial {display: flex;flex-direction: column;align-items: center;background-color: white;padding-right: 0.2em;padding-left: 0.2em;position: relative;}#sk-container-id-4 div.sk-item {position: relative;z-index: 1;}#sk-container-id-4 div.sk-parallel {display: flex;align-items: stretch;justify-content: center;background-color: white;position: relative;}#sk-container-id-4 div.sk-item::before, #sk-container-id-4 div.sk-parallel-item::before {content: \"\";position: absolute;border-left: 1px solid gray;box-sizing: border-box;top: 0;bottom: 0;left: 50%;z-index: -1;}#sk-container-id-4 div.sk-parallel-item {display: flex;flex-direction: column;z-index: 1;position: relative;background-color: white;}#sk-container-id-4 div.sk-parallel-item:first-child::after {align-self: flex-end;width: 50%;}#sk-container-id-4 div.sk-parallel-item:last-child::after {align-self: flex-start;width: 50%;}#sk-container-id-4 div.sk-parallel-item:only-child::after {width: 0;}#sk-container-id-4 div.sk-dashed-wrapped {border: 1px dashed gray;margin: 0 0.4em 0.5em 0.4em;box-sizing: border-box;padding-bottom: 0.4em;background-color: white;}#sk-container-id-4 div.sk-label label {font-family: monospace;font-weight: bold;display: inline-block;line-height: 1.2em;}#sk-container-id-4 div.sk-label-container {text-align: center;}#sk-container-id-4 div.sk-container {/* jupyter's `normalize.less` sets `[hidden] { display: none; }` but bootstrap.min.css set `[hidden] { display: none !important; }` so we also need the `!important` here to be able to override the default hidden behavior on the sphinx rendered scikit-learn.org. See: https://github.com/scikit-learn/scikit-learn/issues/21755 */display: inline-block !important;position: relative;}#sk-container-id-4 div.sk-text-repr-fallback {display: none;}</style><div id=\"sk-container-id-4\" class=\"sk-top-container\"><div class=\"sk-text-repr-fallback\"><pre>SVC()</pre><b>In a Jupyter environment, please rerun this cell to show the HTML representation or trust the notebook. <br />On GitHub, the HTML representation is unable to render, please try loading this page with nbviewer.org.</b></div><div class=\"sk-container\" hidden><div class=\"sk-item\"><div class=\"sk-estimator sk-toggleable\"><input class=\"sk-toggleable__control sk-hidden--visually\" id=\"sk-estimator-id-4\" type=\"checkbox\" checked><label for=\"sk-estimator-id-4\" class=\"sk-toggleable__label sk-toggleable__label-arrow\">SVC</label><div class=\"sk-toggleable__content\"><pre>SVC()</pre></div></div></div></div></div>"
      ],
      "text/plain": [
       "SVC()"
      ]
     },
     "execution_count": 88,
     "metadata": {},
     "output_type": "execute_result"
    }
   ],
   "source": [
    "#MODELING SVM\n",
    "from sklearn.svm import SVC\n",
    "smodel=SVC()\n",
    "smodel.fit(Xtr,Ytrain)"
   ]
  },
  {
   "cell_type": "code",
   "execution_count": 89,
   "id": "23509392",
   "metadata": {},
   "outputs": [
    {
     "data": {
      "text/plain": [
       "0.5611814345991561"
      ]
     },
     "execution_count": 89,
     "metadata": {},
     "output_type": "execute_result"
    }
   ],
   "source": [
    "#akurasinya svm\n",
    "smodel.score(Xts,Ytest)"
   ]
  },
  {
   "cell_type": "code",
   "execution_count": 74,
   "id": "bae7f2ce",
   "metadata": {},
   "outputs": [
    {
     "data": {
      "text/plain": [
       "0.5738396624472574"
      ]
     },
     "execution_count": 74,
     "metadata": {},
     "output_type": "execute_result"
    }
   ],
   "source": [
    "#akurasinya rf\n",
    "rmodel.score(Xts,Ytest)"
   ]
  },
  {
   "cell_type": "code",
   "execution_count": 84,
   "id": "0a768675",
   "metadata": {},
   "outputs": [
    {
     "name": "stdout",
     "output_type": "stream",
     "text": [
      "Kematengan\n"
     ]
    }
   ],
   "source": [
    "urutan = 3\n",
    "prediksi = rmodel.predict(Xtest[urutan].reshape(1,-1))\n",
    "if prediksi == 0:\n",
    "    print(\"Belum Mateng\")\n",
    "elif prediksi == 1:\n",
    "    print(\"Mateng\")\n",
    "elif prediksi == 2:\n",
    "    print(\"Kematengan\")\n",
    "\n"
   ]
  },
  {
   "cell_type": "code",
   "execution_count": 85,
   "id": "07705db4",
   "metadata": {},
   "outputs": [
    {
     "data": {
      "text/plain": [
       "<matplotlib.image.AxesImage at 0x18ad48963b0>"
      ]
     },
     "execution_count": 85,
     "metadata": {},
     "output_type": "execute_result"
    },
    {
     "data": {
      "image/png": "[encoded data removed]",
      "text/plain": [
       "<Figure size 640x480 with 1 Axes>"
      ]
     },
     "metadata": {},
     "output_type": "display_data"
    }
   ],
   "source": [
    "plt.imshow(Xtest[3])"
   ]
  },
  {
   "cell_type": "code",
   "execution_count": null,
   "id": "bc1cf45f",
   "metadata": {},
   "outputs": [],
   "source": []
  },
  {
   "cell_type": "markdown",
   "id": "ea73cae9",
   "metadata": {},
   "source": [
    "## VERSI 1.1 : SPLIT DULU BARU DIUBAH JADI ARRAY  (RGB HA)"
   ]
  },
  {
   "cell_type": "code",
   "execution_count": 5,
   "id": "60155092",
   "metadata": {},
   "outputs": [],
   "source": [
    "#TRAINING\n",
    "train_loc = '../Tugas Akhir/tes2/training'\n",
    "#ekstrak fitur\n",
    "train_img1=[]     #list for features\n",
    "for i in os.listdir(train_loc):\n",
    "    img=cv2.imread(os.path.join(train_loc,i))  #joining the path of each image in the loop \n",
    "    img = cv2.cvtColor(img, cv2.COLOR_RGB2BGR)\n",
    "    resized=cv2.resize(img,(120,120))   #resizing all imgaes to reduce computation and also give each image a dimension\n",
    "    train_img1.append(resized)\n",
    "    \n",
    "train_img2 = []  # list for features\n",
    "for i in os.listdir(train_loc):\n",
    "    img = cv2.imread(os.path.join(train_loc, i))  # joining the path of each image in the loop\n",
    "    img_hsv = cv2.cvtColor(img, cv2.COLOR_RGB2HSV)\n",
    "    h_channel = img_hsv[:, :, 0]  # Accessing only the H (hue) channel\n",
    "    resized=cv2.resize(h_channel,(120,120)) \n",
    "    train_img2.append(resized)\n",
    "    \n",
    "train_img3 = []  # list for features\n",
    "for i in os.listdir(train_loc):\n",
    "    img = cv2.imread(os.path.join(train_loc, i))  # joining the path of each image in the loop \n",
    "    img_lab = cv2.cvtColor(img, cv2.COLOR_RGB2LAB)\n",
    "    a_channel = img_lab[:, :, 1]  # Accessing only the a channel\n",
    "    resized=cv2.resize(a_channel,(120,120)) \n",
    "    train_img3.append(resized)\n",
    "\n",
    "train_img1 = np.array(train_img1)\n",
    "train_img2 = np.array(train_img2)\n",
    "train_img3 = np.array(train_img3)\n",
    "\n",
    "train_fitur = np.empty((len(train_img1), 120, 120, 5), dtype=np.uint8)\n",
    "train_fitur[:, :, :, :3] = train_img1[:, :, :, 2::-1]  # R, G, B channels from gambar_arr\n",
    "train_fitur[:, :, :, 3] = train_img2  # H channel from gembor_arr\n",
    "train_fitur[:, :, :, 4] = train_img3  # a channel from gember_arr\n",
    "\n",
    "train_label=[]\n",
    "for i in os.listdir(train_loc):\n",
    "    if i.split(\" \")[0] == \"underripe\":\n",
    "        train_label.append(0)\n",
    "    elif i.split(\" \")[0] ==\"ripe\":\n",
    "        train_label.append(1)\n",
    "    elif i.split(\" \")[0] == \"overripe\":\n",
    "        train_label.append(2)"
   ]
  },
  {
   "cell_type": "code",
   "execution_count": 6,
   "id": "22d9fd57",
   "metadata": {},
   "outputs": [],
   "source": [
    "test_loc = '../Tugas Akhir/tes2/testing'\n",
    "#TESTING\n",
    "#ekstrak fitur\n",
    "test_img1=[]     #list for features\n",
    "for i in os.listdir(test_loc):\n",
    "    img=cv2.imread(os.path.join(test_loc,i))  #joining the path of each image in the loop \n",
    "    img = cv2.cvtColor(img, cv2.COLOR_RGB2BGR)\n",
    "    resized=cv2.resize(img,(120,120))   #resizing all imgaes to reduce computation and also give each image a dimension\n",
    "    test_img1.append(resized)\n",
    "    \n",
    "test_img2 = []  # list for features\n",
    "for i in os.listdir(test_loc):\n",
    "    img = cv2.imread(os.path.join(test_loc, i))  # joining the path of each image in the loop\n",
    "    img_hsv = cv2.cvtColor(img, cv2.COLOR_RGB2HSV)\n",
    "    h_channel = img_hsv[:, :, 0]  # Accessing only the H (hue) channel\n",
    "    resized=cv2.resize(h_channel,(120,120)) \n",
    "    test_img2.append(resized)\n",
    "    \n",
    "test_img3 = []  # list for features\n",
    "for i in os.listdir(test_loc):\n",
    "    img = cv2.imread(os.path.join(test_loc, i))  # joining the path of each image in the loop \n",
    "    img_lab = cv2.cvtColor(img, cv2.COLOR_RGB2LAB)\n",
    "    a_channel = img_lab[:, :, 1]  # Accessing only the a channel\n",
    "    resized=cv2.resize(a_channel,(120,120)) \n",
    "    test_img3.append(resized)\n",
    "\n",
    "test_img1 = np.array(test_img1)\n",
    "test_img2 = np.array(test_img2)\n",
    "test_img3 = np.array(test_img3)\n",
    "\n",
    "test_fitur = np.empty((len(test_img1), 120, 120, 5), dtype=np.uint8)\n",
    "test_fitur[:, :, :, :3] = test_img1[:, :, :, 2::-1]  # R, G, B channels from gambar_arr\n",
    "test_fitur[:, :, :, 3] = test_img2  # H channel from gembor_arr\n",
    "test_fitur[:, :, :, 4] = test_img3  # a channel from gember_arr\n",
    "\n",
    "test_label=[]\n",
    "for i in os.listdir(test_loc):\n",
    "    if i.split(\" \")[0] == \"underripe\":\n",
    "        test_label.append(0)\n",
    "    elif i.split(\" \")[0] ==\"ripe\":\n",
    "        test_label.append(1)\n",
    "    elif i.split(\" \")[0] == \"overripe\":\n",
    "        test_label.append(2)"
   ]
  },
  {
   "cell_type": "code",
   "execution_count": 7,
   "id": "2148d325",
   "metadata": {},
   "outputs": [],
   "source": [
    "#DATA SPLITING\n",
    "Xtrain, Xtest = train_fitur, test_fitur\n",
    "Ytrain, Ytest = train_label, test_label"
   ]
  },
  {
   "cell_type": "code",
   "execution_count": 8,
   "id": "4f96a5b7",
   "metadata": {},
   "outputs": [
    {
     "data": {
      "text/plain": [
       "72000"
      ]
     },
     "execution_count": 8,
     "metadata": {},
     "output_type": "execute_result"
    }
   ],
   "source": [
    "120*120*5"
   ]
  },
  {
   "cell_type": "code",
   "execution_count": 10,
   "id": "2d3abc46",
   "metadata": {},
   "outputs": [],
   "source": [
    "#Reshape\n",
    "Xtr = train_fitur.reshape(945,72000)\n",
    "#Reshape\n",
    "Xts = test_fitur.reshape(237,72000)"
   ]
  },
  {
   "cell_type": "code",
   "execution_count": 11,
   "id": "38afc6ff",
   "metadata": {},
   "outputs": [
    {
     "name": "stdout",
     "output_type": "stream",
     "text": [
      "(945, 120, 120, 5)\n",
      "(237, 120, 120, 5)\n",
      "(237, 72000)\n",
      "(945, 72000)\n"
     ]
    }
   ],
   "source": [
    "# Detail split data\n",
    "print(train_fitur.shape)\n",
    "print(test_fitur.shape)\n",
    "print(Xts.shape)\n",
    "print(Xtr.shape)"
   ]
  },
  {
   "cell_type": "code",
   "execution_count": 28,
   "id": "3d4eb462",
   "metadata": {},
   "outputs": [
    {
     "data": {
      "text/html": [
       "<style>#sk-container-id-9 {color: black;background-color: white;}#sk-container-id-9 pre{padding: 0;}#sk-container-id-9 div.sk-toggleable {background-color: white;}#sk-container-id-9 label.sk-toggleable__label {cursor: pointer;display: block;width: 100%;margin-bottom: 0;padding: 0.3em;box-sizing: border-box;text-align: center;}#sk-container-id-9 label.sk-toggleable__label-arrow:before {content: \"▸\";float: left;margin-right: 0.25em;color: #696969;}#sk-container-id-9 label.sk-toggleable__label-arrow:hover:before {color: black;}#sk-container-id-9 div.sk-estimator:hover label.sk-toggleable__label-arrow:before {color: black;}#sk-container-id-9 div.sk-toggleable__content {max-height: 0;max-width: 0;overflow: hidden;text-align: left;background-color: #f0f8ff;}#sk-container-id-9 div.sk-toggleable__content pre {margin: 0.2em;color: black;border-radius: 0.25em;background-color: #f0f8ff;}#sk-container-id-9 input.sk-toggleable__control:checked~div.sk-toggleable__content {max-height: 200px;max-width: 100%;overflow: auto;}#sk-container-id-9 input.sk-toggleable__control:checked~label.sk-toggleable__label-arrow:before {content: \"▾\";}#sk-container-id-9 div.sk-estimator input.sk-toggleable__control:checked~label.sk-toggleable__label {background-color: #d4ebff;}#sk-container-id-9 div.sk-label input.sk-toggleable__control:checked~label.sk-toggleable__label {background-color: #d4ebff;}#sk-container-id-9 input.sk-hidden--visually {border: 0;clip: rect(1px 1px 1px 1px);clip: rect(1px, 1px, 1px, 1px);height: 1px;margin: -1px;overflow: hidden;padding: 0;position: absolute;width: 1px;}#sk-container-id-9 div.sk-estimator {font-family: monospace;background-color: #f0f8ff;border: 1px dotted black;border-radius: 0.25em;box-sizing: border-box;margin-bottom: 0.5em;}#sk-container-id-9 div.sk-estimator:hover {background-color: #d4ebff;}#sk-container-id-9 div.sk-parallel-item::after {content: \"\";width: 100%;border-bottom: 1px solid gray;flex-grow: 1;}#sk-container-id-9 div.sk-label:hover label.sk-toggleable__label {background-color: #d4ebff;}#sk-container-id-9 div.sk-serial::before {content: \"\";position: absolute;border-left: 1px solid gray;box-sizing: border-box;top: 0;bottom: 0;left: 50%;z-index: 0;}#sk-container-id-9 div.sk-serial {display: flex;flex-direction: column;align-items: center;background-color: white;padding-right: 0.2em;padding-left: 0.2em;position: relative;}#sk-container-id-9 div.sk-item {position: relative;z-index: 1;}#sk-container-id-9 div.sk-parallel {display: flex;align-items: stretch;justify-content: center;background-color: white;position: relative;}#sk-container-id-9 div.sk-item::before, #sk-container-id-9 div.sk-parallel-item::before {content: \"\";position: absolute;border-left: 1px solid gray;box-sizing: border-box;top: 0;bottom: 0;left: 50%;z-index: -1;}#sk-container-id-9 div.sk-parallel-item {display: flex;flex-direction: column;z-index: 1;position: relative;background-color: white;}#sk-container-id-9 div.sk-parallel-item:first-child::after {align-self: flex-end;width: 50%;}#sk-container-id-9 div.sk-parallel-item:last-child::after {align-self: flex-start;width: 50%;}#sk-container-id-9 div.sk-parallel-item:only-child::after {width: 0;}#sk-container-id-9 div.sk-dashed-wrapped {border: 1px dashed gray;margin: 0 0.4em 0.5em 0.4em;box-sizing: border-box;padding-bottom: 0.4em;background-color: white;}#sk-container-id-9 div.sk-label label {font-family: monospace;font-weight: bold;display: inline-block;line-height: 1.2em;}#sk-container-id-9 div.sk-label-container {text-align: center;}#sk-container-id-9 div.sk-container {/* jupyter's `normalize.less` sets `[hidden] { display: none; }` but bootstrap.min.css set `[hidden] { display: none !important; }` so we also need the `!important` here to be able to override the default hidden behavior on the sphinx rendered scikit-learn.org. See: https://github.com/scikit-learn/scikit-learn/issues/21755 */display: inline-block !important;position: relative;}#sk-container-id-9 div.sk-text-repr-fallback {display: none;}</style><div id=\"sk-container-id-9\" class=\"sk-top-container\"><div class=\"sk-text-repr-fallback\"><pre>RandomForestClassifier()</pre><b>In a Jupyter environment, please rerun this cell to show the HTML representation or trust the notebook. <br />On GitHub, the HTML representation is unable to render, please try loading this page with nbviewer.org.</b></div><div class=\"sk-container\" hidden><div class=\"sk-item\"><div class=\"sk-estimator sk-toggleable\"><input class=\"sk-toggleable__control sk-hidden--visually\" id=\"sk-estimator-id-9\" type=\"checkbox\" checked><label for=\"sk-estimator-id-9\" class=\"sk-toggleable__label sk-toggleable__label-arrow\">RandomForestClassifier</label><div class=\"sk-toggleable__content\"><pre>RandomForestClassifier()</pre></div></div></div></div></div>"
      ],
      "text/plain": [
       "RandomForestClassifier()"
      ]
     },
     "execution_count": 28,
     "metadata": {},
     "output_type": "execute_result"
    }
   ],
   "source": [
    "#MODELING RF\n",
    "from sklearn.ensemble import RandomForestClassifier\n",
    "rmodel=RandomForestClassifier(n_estimators = 100)\n",
    "rmodel.fit(Xtr,Ytrain)"
   ]
  },
  {
   "cell_type": "code",
   "execution_count": 29,
   "id": "74413d41",
   "metadata": {},
   "outputs": [
    {
     "data": {
      "text/plain": [
       "0.8734177215189873"
      ]
     },
     "execution_count": 29,
     "metadata": {},
     "output_type": "execute_result"
    }
   ],
   "source": [
    "#akurasinya rf\n",
    "rmodel.score(Xts,Ytest)"
   ]
  },
  {
   "cell_type": "code",
   "execution_count": 36,
   "id": "89f4f744",
   "metadata": {},
   "outputs": [
    {
     "name": "stdout",
     "output_type": "stream",
     "text": [
      "Kematengan\n"
     ]
    },
    {
     "data": {
      "image/png": "[encoded data removed]",
      "text/plain": [
       "<Figure size 640x480 with 1 Axes>"
      ]
     },
     "metadata": {},
     "output_type": "display_data"
    }
   ],
   "source": [
    "urutan = 10\n",
    "prediksi = rmodel.predict(Xts[urutan].reshape(1,-1))\n",
    "if prediksi == 0:\n",
    "    print(\"Belum Mateng\")\n",
    "elif prediksi == 1:\n",
    "    print(\"Mateng\")\n",
    "elif prediksi == 2:\n",
    "    print(\"Kematengan\")\n",
    "\n",
    "plt.imshow(test_img1[urutan])\n",
    "plt.show()"
   ]
  },
  {
   "cell_type": "code",
   "execution_count": 40,
   "id": "939b09b2",
   "metadata": {},
   "outputs": [],
   "source": [
    "# Make predictions for the test set\n",
    "y_pred_test = rmodel.predict(Xts)"
   ]
  },
  {
   "cell_type": "code",
   "execution_count": 46,
   "id": "8c3d86f5",
   "metadata": {},
   "outputs": [
    {
     "data": {
      "text/plain": [
       "array([[67,  6,  2],\n",
       "       [ 9, 51,  4],\n",
       "       [ 0,  9, 89]], dtype=int64)"
      ]
     },
     "execution_count": 46,
     "metadata": {},
     "output_type": "execute_result"
    }
   ],
   "source": [
    "from sklearn.metrics import accuracy_score, confusion_matrix, classification_report\n",
    "confusion_matrix = confusion_matrix(Ytest, y_pred_test)\n",
    "confusion_matrix"
   ]
  },
  {
   "cell_type": "code",
   "execution_count": 48,
   "id": "1b614993",
   "metadata": {},
   "outputs": [
    {
     "data": {
      "image/png": "[encoded data removed]",
      "text/plain": [
       "<Figure size 640x480 with 2 Axes>"
      ]
     },
     "metadata": {},
     "output_type": "display_data"
    }
   ],
   "source": [
    "import seaborn as sns\n",
    "\n",
    "# Membuat label untuk kelas\n",
    "labels = ['Underripe', 'Ripe', 'Overripe']\n",
    "\n",
    "# Membuat heat map menggunakan seaborn\n",
    "sns.heatmap(confusion_matrix, annot=True, fmt='d', cmap='Blues', xticklabels=labels, yticklabels=labels)\n",
    "\n",
    "# Menambahkan label pada sumbu x dan y\n",
    "plt.xlabel('Predicted')\n",
    "plt.ylabel('Actual')\n",
    "\n",
    "# Menampilkan plot\n",
    "plt.show()\n"
   ]
  },
  {
   "cell_type": "code",
   "execution_count": 59,
   "id": "b7e47253",
   "metadata": {},
   "outputs": [
    {
     "name": "stdout",
     "output_type": "stream",
     "text": [
      "Class\t\t| TP\t| FP\t| Precision\t| Recall\t| F1-score\n",
      "------------------------------------------------------------------------\n",
      "Belum matang\t| 67\t| 9\t| 0.88\t\t| 0.89\t\t| 0.89\n",
      "Matang \t\t| 51\t| 15\t| 0.77\t\t| 0.80\t\t| 0.78\n",
      "Kematangan\t| 89\t| 6\t| 0.94\t\t| 0.91\t\t| 0.92\n"
     ]
    }
   ],
   "source": [
    "# Menghitung TP, FP, FN, TN untuk setiap kelas\n",
    "TP = np.diag(confusion_matrix)\n",
    "FP = np.sum(confusion_matrix, axis=0) - TP\n",
    "FN = np.sum(confusion_matrix, axis=1) - TP\n",
    "TN = np.sum(confusion_matrix) - (TP + FP + FN)\n",
    "\n",
    "# Menghitung Precision, Recall, dan F1-measure untuk setiap kelas\n",
    "precision = TP / (TP + FP)\n",
    "recall = TP / (TP + FN)\n",
    "f1_measure = 2 * (precision * recall) / (precision + recall)\n",
    "\n",
    "# Menampilkan hasil dalam bentuk tabel\n",
    "print(\"Class\\t\\t| TP\\t| FP\\t| Precision\\t| Recall\\t| F1-score\")\n",
    "print(\"------------------------------------------------------------------------\")\n",
    "for i in range(len(TP)):\n",
    "    if i == 0: z = \"Belum matang\"\n",
    "    elif i == 1: z = \"Matang \\t\"\n",
    "    elif i == 2: z = \"Kematangan\"\n",
    "    print(f\"{z}\\t| {TP[i]}\\t| {FP[i]}\\t| {precision[i]:.2f}\\t\\t| {recall[i]:.2f}\\t\\t| {f1_measure[i]:.2f}\")\n"
   ]
  },
  {
   "cell_type": "code",
   "execution_count": null,
   "id": "5f85ea74",
   "metadata": {},
   "outputs": [],
   "source": []
  },
  {
   "cell_type": "markdown",
   "id": "2d15e77d",
   "metadata": {},
   "source": [
    "## VERSI 2.1 : UBAH JADI ARRAY DULU BARU DI SPLIT (RGB H A)"
   ]
  },
  {
   "cell_type": "code",
   "execution_count": null,
   "id": "559e8606",
   "metadata": {},
   "outputs": [],
   "source": [
    "#Kodingannya mulai dari sini"
   ]
  },
  {
   "cell_type": "code",
   "execution_count": 152,
   "id": "f5731161",
   "metadata": {},
   "outputs": [],
   "source": [
    "loc = r'D:/Kuliah/Semester 6/PCD/Tugas Akhir/tes1/dataset'"
   ]
  },
  {
   "cell_type": "code",
   "execution_count": 153,
   "id": "633f1ab7",
   "metadata": {},
   "outputs": [],
   "source": [
    "label=[]\n",
    "for i in os.listdir(loc):\n",
    "    if i.split(\" \")[0] == \"underripe\":\n",
    "        label.append(0)\n",
    "    elif i.split(\" \")[0] ==\"ripe\":\n",
    "        label.append(1)\n",
    "    elif i.split(\" \")[0] == \"overripe\":\n",
    "        label.append(2)\n",
    "label = np.array(label)"
   ]
  },
  {
   "cell_type": "code",
   "execution_count": 154,
   "id": "b8cd739f",
   "metadata": {},
   "outputs": [
    {
     "name": "stderr",
     "output_type": "stream",
     "text": [
      "C:\\Users\\ACER\\AppData\\Local\\Temp\\ipykernel_14800\\216238171.py:10: VisibleDeprecationWarning: Creating an ndarray from ragged nested sequences (which is a list-or-tuple of lists-or-tuples-or ndarrays with different lengths or shapes) is deprecated. If you meant to do this, you must specify 'dtype=object' when creating the ndarray.\n",
      "  images = np.array(images)\n"
     ]
    }
   ],
   "source": [
    "# ini coretan\n",
    "images = []\n",
    "for file_name in os.listdir(loc):\n",
    "    # Memeriksa apakah file memiliki ekstensi .jpg atau .png\n",
    "    if file_name.endswith('.jpg') or file_name.endswith('.png'):\n",
    "        file_path = os.path.join(loc, file_name)\n",
    "        img = cv2.imread(file_path, cv2.IMREAD_COLOR)\n",
    "        #img = cv2.cvtColor(img, cv2.COLOR_RGB2BGR)\n",
    "        images.append(img)\n",
    "images = np.array(images)"
   ]
  },
  {
   "cell_type": "code",
   "execution_count": 150,
   "id": "971529d1",
   "metadata": {},
   "outputs": [
    {
     "name": "stdout",
     "output_type": "stream",
     "text": [
      "1184\n",
      "1184\n"
     ]
    }
   ],
   "source": [
    "print(len(images))\n",
    "print(len(label))"
   ]
  },
  {
   "cell_type": "code",
   "execution_count": 155,
   "id": "8d3ac5f9",
   "metadata": {},
   "outputs": [],
   "source": [
    "#ekstrak fitur\n",
    "gambar=[]     #list for features\n",
    "for i in os.listdir(loc):\n",
    "    img=cv2.imread(os.path.join(loc,i))  #joining the path of each image in the loop \n",
    "    img = cv2.cvtColor(img, cv2.COLOR_RGB2BGR)\n",
    "    resized=cv2.resize(img,(120,120))   #resizing all imgaes to reduce computation and also give each image a dimension\n",
    "    \n",
    "\n",
    "    gambar.append(resized)"
   ]
  },
  {
   "cell_type": "code",
   "execution_count": 156,
   "id": "410f2a3f",
   "metadata": {},
   "outputs": [],
   "source": [
    "gembor = []  # list for features\n",
    "for i in os.listdir(loc):\n",
    "    img = cv2.imread(os.path.join(loc, i))  # joining the path of each image in the loop\n",
    "    img_hsv = cv2.cvtColor(img, cv2.COLOR_RGB2HSV)\n",
    "    h_channel = img_hsv[:, :, 0]  # Accessing only the H (hue) channel\n",
    "\n",
    "    gembor.append(h_channel)"
   ]
  },
  {
   "cell_type": "code",
   "execution_count": 157,
   "id": "0650421d",
   "metadata": {},
   "outputs": [],
   "source": [
    "gember = []  # list for features\n",
    "for i in os.listdir(loc):\n",
    "    img = cv2.imread(os.path.join(loc, i))  # joining the path of each image in the loop \n",
    "    img_lab = cv2.cvtColor(img, cv2.COLOR_RGB2LAB)\n",
    "    a_channel = img_lab[:, :, 1]  # Accessing only the a channel\n",
    "\n",
    "    gember.append(a_channel)"
   ]
  },
  {
   "cell_type": "code",
   "execution_count": 158,
   "id": "0697d1af",
   "metadata": {},
   "outputs": [],
   "source": [
    "import numpy as np\n",
    "\n",
    "gambar_arr = []\n",
    "gembor_arr = []\n",
    "gember_arr = []\n",
    "\n",
    "for i in range(len(gambar)):\n",
    "    img = gambar[i]\n",
    "    img_h = gembor[i]\n",
    "    img_a = gember[i]\n",
    "    \n",
    "    # Resize gambar, gembor, dan gember ke ukuran yang sama\n",
    "    img_resized = cv2.resize(img, (120, 120))\n",
    "    img_h_resized = cv2.resize(img_h, (120, 120))\n",
    "    img_a_resized = cv2.resize(img_a, (120, 120))\n",
    "    \n",
    "    gambar_arr.append(img_resized)\n",
    "    gembor_arr.append(img_h_resized)\n",
    "    gember_arr.append(img_a_resized)\n",
    "\n",
    "gambar_arr = np.array(gambar_arr)\n",
    "gembor_arr = np.array(gembor_arr)\n",
    "gember_arr = np.array(gember_arr)\n",
    "\n",
    "fitur = np.empty((len(gambar_arr), 120, 120, 5), dtype=np.uint8)\n",
    "fitur[:, :, :, :3] = gambar_arr[:, :, :, 2::-1]  # R, G, B channels from gambar_arr\n",
    "fitur[:, :, :, 3] = gembor_arr  # H channel from gembor_arr\n",
    "fitur[:, :, :, 4] = gember_arr  # a channel from gember_arr"
   ]
  },
  {
   "cell_type": "code",
   "execution_count": 79,
   "id": "6f68ca5b",
   "metadata": {},
   "outputs": [
    {
     "name": "stdout",
     "output_type": "stream",
     "text": [
      "(1184, 120, 120, 5)\n",
      "(1184,)\n"
     ]
    }
   ],
   "source": [
    "#Banyak fitur dan label\n",
    "print(fitur.shape)\n",
    "print(label.shape)"
   ]
  },
  {
   "cell_type": "code",
   "execution_count": 65,
   "id": "dd435ab9",
   "metadata": {},
   "outputs": [
    {
     "data": {
      "text/plain": [
       "72000"
      ]
     },
     "execution_count": 65,
     "metadata": {},
     "output_type": "execute_result"
    }
   ],
   "source": [
    "120*120*5"
   ]
  },
  {
   "cell_type": "code",
   "execution_count": 159,
   "id": "7ecd4a07",
   "metadata": {},
   "outputs": [],
   "source": [
    "#definisikan X dan Y part 2\n",
    "X = np.array(fitur)\n",
    "Y = np.array(label)\n",
    "X = X.reshape(1184,72000)"
   ]
  },
  {
   "cell_type": "code",
   "execution_count": 160,
   "id": "7fcf4a3b",
   "metadata": {},
   "outputs": [],
   "source": [
    "#split dataset\n",
    "from sklearn.model_selection import train_test_split\n",
    "xtrain,xtest,ytrain,ytest = train_test_split(X,Y, test_size = 0.2, random_state = 42)"
   ]
  },
  {
   "cell_type": "code",
   "execution_count": 161,
   "id": "0e538ff4",
   "metadata": {},
   "outputs": [
    {
     "data": {
      "text/html": [
       "<style>#sk-container-id-7 {color: black;background-color: white;}#sk-container-id-7 pre{padding: 0;}#sk-container-id-7 div.sk-toggleable {background-color: white;}#sk-container-id-7 label.sk-toggleable__label {cursor: pointer;display: block;width: 100%;margin-bottom: 0;padding: 0.3em;box-sizing: border-box;text-align: center;}#sk-container-id-7 label.sk-toggleable__label-arrow:before {content: \"▸\";float: left;margin-right: 0.25em;color: #696969;}#sk-container-id-7 label.sk-toggleable__label-arrow:hover:before {color: black;}#sk-container-id-7 div.sk-estimator:hover label.sk-toggleable__label-arrow:before {color: black;}#sk-container-id-7 div.sk-toggleable__content {max-height: 0;max-width: 0;overflow: hidden;text-align: left;background-color: #f0f8ff;}#sk-container-id-7 div.sk-toggleable__content pre {margin: 0.2em;color: black;border-radius: 0.25em;background-color: #f0f8ff;}#sk-container-id-7 input.sk-toggleable__control:checked~div.sk-toggleable__content {max-height: 200px;max-width: 100%;overflow: auto;}#sk-container-id-7 input.sk-toggleable__control:checked~label.sk-toggleable__label-arrow:before {content: \"▾\";}#sk-container-id-7 div.sk-estimator input.sk-toggleable__control:checked~label.sk-toggleable__label {background-color: #d4ebff;}#sk-container-id-7 div.sk-label input.sk-toggleable__control:checked~label.sk-toggleable__label {background-color: #d4ebff;}#sk-container-id-7 input.sk-hidden--visually {border: 0;clip: rect(1px 1px 1px 1px);clip: rect(1px, 1px, 1px, 1px);height: 1px;margin: -1px;overflow: hidden;padding: 0;position: absolute;width: 1px;}#sk-container-id-7 div.sk-estimator {font-family: monospace;background-color: #f0f8ff;border: 1px dotted black;border-radius: 0.25em;box-sizing: border-box;margin-bottom: 0.5em;}#sk-container-id-7 div.sk-estimator:hover {background-color: #d4ebff;}#sk-container-id-7 div.sk-parallel-item::after {content: \"\";width: 100%;border-bottom: 1px solid gray;flex-grow: 1;}#sk-container-id-7 div.sk-label:hover label.sk-toggleable__label {background-color: #d4ebff;}#sk-container-id-7 div.sk-serial::before {content: \"\";position: absolute;border-left: 1px solid gray;box-sizing: border-box;top: 0;bottom: 0;left: 50%;z-index: 0;}#sk-container-id-7 div.sk-serial {display: flex;flex-direction: column;align-items: center;background-color: white;padding-right: 0.2em;padding-left: 0.2em;position: relative;}#sk-container-id-7 div.sk-item {position: relative;z-index: 1;}#sk-container-id-7 div.sk-parallel {display: flex;align-items: stretch;justify-content: center;background-color: white;position: relative;}#sk-container-id-7 div.sk-item::before, #sk-container-id-7 div.sk-parallel-item::before {content: \"\";position: absolute;border-left: 1px solid gray;box-sizing: border-box;top: 0;bottom: 0;left: 50%;z-index: -1;}#sk-container-id-7 div.sk-parallel-item {display: flex;flex-direction: column;z-index: 1;position: relative;background-color: white;}#sk-container-id-7 div.sk-parallel-item:first-child::after {align-self: flex-end;width: 50%;}#sk-container-id-7 div.sk-parallel-item:last-child::after {align-self: flex-start;width: 50%;}#sk-container-id-7 div.sk-parallel-item:only-child::after {width: 0;}#sk-container-id-7 div.sk-dashed-wrapped {border: 1px dashed gray;margin: 0 0.4em 0.5em 0.4em;box-sizing: border-box;padding-bottom: 0.4em;background-color: white;}#sk-container-id-7 div.sk-label label {font-family: monospace;font-weight: bold;display: inline-block;line-height: 1.2em;}#sk-container-id-7 div.sk-label-container {text-align: center;}#sk-container-id-7 div.sk-container {/* jupyter's `normalize.less` sets `[hidden] { display: none; }` but bootstrap.min.css set `[hidden] { display: none !important; }` so we also need the `!important` here to be able to override the default hidden behavior on the sphinx rendered scikit-learn.org. See: https://github.com/scikit-learn/scikit-learn/issues/21755 */display: inline-block !important;position: relative;}#sk-container-id-7 div.sk-text-repr-fallback {display: none;}</style><div id=\"sk-container-id-7\" class=\"sk-top-container\"><div class=\"sk-text-repr-fallback\"><pre>RandomForestClassifier()</pre><b>In a Jupyter environment, please rerun this cell to show the HTML representation or trust the notebook. <br />On GitHub, the HTML representation is unable to render, please try loading this page with nbviewer.org.</b></div><div class=\"sk-container\" hidden><div class=\"sk-item\"><div class=\"sk-estimator sk-toggleable\"><input class=\"sk-toggleable__control sk-hidden--visually\" id=\"sk-estimator-id-7\" type=\"checkbox\" checked><label for=\"sk-estimator-id-7\" class=\"sk-toggleable__label sk-toggleable__label-arrow\">RandomForestClassifier</label><div class=\"sk-toggleable__content\"><pre>RandomForestClassifier()</pre></div></div></div></div></div>"
      ],
      "text/plain": [
       "RandomForestClassifier()"
      ]
     },
     "execution_count": 161,
     "metadata": {},
     "output_type": "execute_result"
    }
   ],
   "source": [
    "#Bikin model randomforest\n",
    "from sklearn.ensemble import RandomForestClassifier\n",
    "rmodel=RandomForestClassifier(n_estimators = 100)\n",
    "rmodel.fit(xtrain,ytrain)"
   ]
  },
  {
   "cell_type": "code",
   "execution_count": 162,
   "id": "0f2bf874",
   "metadata": {},
   "outputs": [
    {
     "data": {
      "text/plain": [
       "0.8185654008438819"
      ]
     },
     "execution_count": 162,
     "metadata": {},
     "output_type": "execute_result"
    }
   ],
   "source": [
    "#akurasinya #2\n",
    "rmodel.score(xtest,ytest)"
   ]
  },
  {
   "cell_type": "code",
   "execution_count": 70,
   "id": "e6581050",
   "metadata": {},
   "outputs": [
    {
     "name": "stdout",
     "output_type": "stream",
     "text": [
      "(947, 72000)\n",
      "(237, 72000)\n"
     ]
    }
   ],
   "source": [
    "# detail split data\n",
    "# train = 947\n",
    "# test = 237\n",
    "print(xtrain.shape)\n",
    "print(xtest.shape)"
   ]
  },
  {
   "cell_type": "code",
   "execution_count": 72,
   "id": "813c5e44",
   "metadata": {},
   "outputs": [
    {
     "name": "stdout",
     "output_type": "stream",
     "text": [
      "Mateng\n"
     ]
    }
   ],
   "source": [
    "urutan = 10\n",
    "prediksi = rmodel.predict(xtest[urutan].reshape(1,-1))\n",
    "if prediksi == 0:\n",
    "    print(\"Belum Mateng\")\n",
    "elif prediksi == 1:\n",
    "    print(\"Mateng\")\n",
    "elif prediksi == 2:\n",
    "    print(\"Kematengan\")"
   ]
  },
  {
   "cell_type": "code",
   "execution_count": null,
   "id": "d81ddf37",
   "metadata": {},
   "outputs": [],
   "source": []
  },
  {
   "cell_type": "markdown",
   "id": "95ba8392",
   "metadata": {
    "scrolled": false
   },
   "source": [
    "## VERSI 3.0 Menggunakan Mean disetiap nilai cenel"
   ]
  },
  {
   "cell_type": "code",
   "execution_count": 163,
   "id": "4a969e61",
   "metadata": {},
   "outputs": [],
   "source": [
    "folder_path = '../Tugas Akhir/tes2/dataset'  # Path folder yang berisi gambar\n",
    "training_path= '../Tugas Akhir/tes2/training'  # Path folder untuk data pelatihan\n",
    "testing_path = '../Tugas Akhir/tes2/testing'  # Path folder untuk data pengujian"
   ]
  },
  {
   "cell_type": "code",
   "execution_count": 106,
   "id": "f956be7e",
   "metadata": {},
   "outputs": [],
   "source": []
  },
  {
   "cell_type": "code",
   "execution_count": 115,
   "id": "8f2c984b",
   "metadata": {},
   "outputs": [],
   "source": []
  },
  {
   "cell_type": "code",
   "execution_count": 129,
   "id": "d0be65f5",
   "metadata": {},
   "outputs": [],
   "source": []
  },
  {
   "cell_type": "code",
   "execution_count": 164,
   "id": "9d61e148",
   "metadata": {},
   "outputs": [],
   "source": [
    "#TRAINING IMAGE\n",
    "#ekstrak fitur\n",
    "tr_mean_R = []\n",
    "tr_mean_B = []\n",
    "tr_mean_G = []\n",
    "tr_mean_H = []\n",
    "tr_mean_S = []\n",
    "tr_mean_V = []\n",
    "tr_mean_L = []\n",
    "tr_mean_a = []\n",
    "tr_mean_b = []\n",
    "\n",
    "#EKSTRAK RGB\n",
    "for i in os.listdir(training_path):\n",
    "    img=cv2.imread(os.path.join(training_path,i))  #gabungin setiap foto dari path training \n",
    "    img = cv2.cvtColor(img, cv2.COLOR_RGB2BGR)\n",
    "    img=cv2.resize(img,(120,120))   #resize semua gambarnya\n",
    "    tr_avg_R = np.mean(img[:, :, 2])\n",
    "    tr_avg_G = np.mean(img[:, :, 1])\n",
    "    tr_avg_B = np.mean(img[:, :, 0])\n",
    "    tr_mean_R.append(tr_avg_R)\n",
    "    tr_mean_G.append(tr_avg_G)\n",
    "    tr_mean_B.append(tr_avg_B)  \n",
    "tr_mean_R = np.array(tr_mean_R)\n",
    "tr_mean_G = np.array(tr_mean_G)\n",
    "tr_mean_B = np.array(tr_mean_B)\n",
    "\n",
    "#EKSTRAK HSV\n",
    "for i in os.listdir(training_path):\n",
    "    img=cv2.imread(os.path.join(training_path,i))  #gabungin setiap foto dari path training \n",
    "    imghsv = cv2.cvtColor(img, cv2.COLOR_RGB2HSV)\n",
    "    imghsv=cv2.resize(imghsv,(120,120))   #resize semua gambarnya\n",
    "    tr_avg_H = np.mean(img[:, :, 0])\n",
    "    tr_avg_S = np.mean(img[:, :, 1])\n",
    "    tr_avg_V = np.mean(img[:, :, 2])\n",
    "    tr_mean_H.append(tr_avg_H)\n",
    "    tr_mean_S.append(tr_avg_S)\n",
    "    tr_mean_V.append(tr_avg_V)  \n",
    "tr_mean_H = np.array(tr_mean_H)\n",
    "tr_mean_S = np.array(tr_mean_S)\n",
    "tr_mean_V = np.array(tr_mean_V)\n",
    "\n",
    "#EKSTRAK Lab\n",
    "for i in os.listdir(training_path):\n",
    "    img=cv2.imread(os.path.join(training_path,i))  #gabungin setiap foto dari path training \n",
    "    imglab = cv2.cvtColor(img, cv2.COLOR_RGB2LAB)\n",
    "    imglab=cv2.resize(imglab,(120,120))   #resize semua gambarnya\n",
    "    tr_avg_L = np.mean(img[:, :, 0])\n",
    "    tr_avg_a = np.mean(img[:, :, 1])\n",
    "    tr_avg_b = np.mean(img[:, :, 2])\n",
    "    tr_mean_L.append(tr_avg_L)\n",
    "    tr_mean_a.append(tr_avg_a)\n",
    "    tr_mean_b.append(tr_avg_b)  \n",
    "tr_mean_L = np.array(tr_mean_L)\n",
    "tr_mean_a = np.array(tr_mean_a)\n",
    "tr_mean_b = np.array(tr_mean_b)\n",
    "\n",
    "#ekstrak label\n",
    "train_label=[]\n",
    "for i in os.listdir(training_path):\n",
    "    if i.split(\" \")[0] == \"underripe\":\n",
    "        train_label.append(0)\n",
    "    elif i.split(\" \")[0] ==\"ripe\":\n",
    "        train_label.append(1)\n",
    "    elif i.split(\" \")[0] == \"overripe\":\n",
    "        train_label.append(2)\n",
    "train_label = np.array(train_label)"
   ]
  },
  {
   "cell_type": "code",
   "execution_count": 165,
   "id": "c1eae609",
   "metadata": {},
   "outputs": [],
   "source": [
    "#Dibikin dataframe\n",
    "import pandas as pd\n",
    "DataframeTr = pd.DataFrame()\n",
    "DataframeTr['Label'] = train_label\n",
    "DataframeTr['mean_R'] = tr_mean_R\n",
    "DataframeTr['mean_G'] = tr_mean_G\n",
    "DataframeTr['mean_B'] = tr_mean_B\n",
    "DataframeTr['mean_H'] = tr_mean_H\n",
    "DataframeTr['mean_S'] = tr_mean_S\n",
    "DataframeTr['mean_V'] = tr_mean_V\n",
    "DataframeTr['mean_L'] = tr_mean_L\n",
    "DataframeTr['mean_a'] = tr_mean_a\n",
    "DataframeTr['mean_b'] = tr_mean_b"
   ]
  },
  {
   "cell_type": "code",
   "execution_count": 166,
   "id": "3ce1730b",
   "metadata": {},
   "outputs": [
    {
     "data": {
      "text/html": [
       "<div>\n",
       "<style scoped>\n",
       "    .dataframe tbody tr th:only-of-type {\n",
       "        vertical-align: middle;\n",
       "    }\n",
       "\n",
       "    .dataframe tbody tr th {\n",
       "        vertical-align: top;\n",
       "    }\n",
       "\n",
       "    .dataframe thead th {\n",
       "        text-align: right;\n",
       "    }\n",
       "</style>\n",
       "<table border=\"1\" class=\"dataframe\">\n",
       "  <thead>\n",
       "    <tr style=\"text-align: right;\">\n",
       "      <th></th>\n",
       "      <th>Label</th>\n",
       "      <th>mean_R</th>\n",
       "      <th>mean_G</th>\n",
       "      <th>mean_B</th>\n",
       "      <th>mean_H</th>\n",
       "      <th>mean_S</th>\n",
       "      <th>mean_V</th>\n",
       "      <th>mean_L</th>\n",
       "      <th>mean_a</th>\n",
       "      <th>mean_b</th>\n",
       "    </tr>\n",
       "  </thead>\n",
       "  <tbody>\n",
       "    <tr>\n",
       "      <th>0</th>\n",
       "      <td>2</td>\n",
       "      <td>134.798056</td>\n",
       "      <td>139.753194</td>\n",
       "      <td>145.931181</td>\n",
       "      <td>134.903384</td>\n",
       "      <td>139.859221</td>\n",
       "      <td>146.034415</td>\n",
       "      <td>134.903384</td>\n",
       "      <td>139.859221</td>\n",
       "      <td>146.034415</td>\n",
       "    </tr>\n",
       "    <tr>\n",
       "      <th>1</th>\n",
       "      <td>2</td>\n",
       "      <td>100.593819</td>\n",
       "      <td>110.971389</td>\n",
       "      <td>119.214583</td>\n",
       "      <td>100.680827</td>\n",
       "      <td>111.048557</td>\n",
       "      <td>119.294443</td>\n",
       "      <td>100.680827</td>\n",
       "      <td>111.048557</td>\n",
       "      <td>119.294443</td>\n",
       "    </tr>\n",
       "    <tr>\n",
       "      <th>2</th>\n",
       "      <td>2</td>\n",
       "      <td>101.401944</td>\n",
       "      <td>107.086319</td>\n",
       "      <td>112.265417</td>\n",
       "      <td>101.474474</td>\n",
       "      <td>107.149306</td>\n",
       "      <td>112.337891</td>\n",
       "      <td>101.474474</td>\n",
       "      <td>107.149306</td>\n",
       "      <td>112.337891</td>\n",
       "    </tr>\n",
       "    <tr>\n",
       "      <th>3</th>\n",
       "      <td>2</td>\n",
       "      <td>89.585208</td>\n",
       "      <td>95.478681</td>\n",
       "      <td>100.848194</td>\n",
       "      <td>89.669226</td>\n",
       "      <td>95.557454</td>\n",
       "      <td>100.932183</td>\n",
       "      <td>89.669226</td>\n",
       "      <td>95.557454</td>\n",
       "      <td>100.932183</td>\n",
       "    </tr>\n",
       "    <tr>\n",
       "      <th>4</th>\n",
       "      <td>2</td>\n",
       "      <td>91.824722</td>\n",
       "      <td>78.282153</td>\n",
       "      <td>76.967014</td>\n",
       "      <td>92.062306</td>\n",
       "      <td>78.510976</td>\n",
       "      <td>77.195913</td>\n",
       "      <td>92.062306</td>\n",
       "      <td>78.510976</td>\n",
       "      <td>77.195913</td>\n",
       "    </tr>\n",
       "    <tr>\n",
       "      <th>...</th>\n",
       "      <td>...</td>\n",
       "      <td>...</td>\n",
       "      <td>...</td>\n",
       "      <td>...</td>\n",
       "      <td>...</td>\n",
       "      <td>...</td>\n",
       "      <td>...</td>\n",
       "      <td>...</td>\n",
       "      <td>...</td>\n",
       "      <td>...</td>\n",
       "    </tr>\n",
       "    <tr>\n",
       "      <th>940</th>\n",
       "      <td>0</td>\n",
       "      <td>109.405417</td>\n",
       "      <td>142.006250</td>\n",
       "      <td>152.755764</td>\n",
       "      <td>109.433232</td>\n",
       "      <td>142.046233</td>\n",
       "      <td>152.793674</td>\n",
       "      <td>109.433232</td>\n",
       "      <td>142.046233</td>\n",
       "      <td>152.793674</td>\n",
       "    </tr>\n",
       "    <tr>\n",
       "      <th>941</th>\n",
       "      <td>0</td>\n",
       "      <td>88.357639</td>\n",
       "      <td>113.505556</td>\n",
       "      <td>119.748958</td>\n",
       "      <td>88.401675</td>\n",
       "      <td>113.530210</td>\n",
       "      <td>119.774911</td>\n",
       "      <td>88.401675</td>\n",
       "      <td>113.530210</td>\n",
       "      <td>119.774911</td>\n",
       "    </tr>\n",
       "    <tr>\n",
       "      <th>942</th>\n",
       "      <td>0</td>\n",
       "      <td>86.973819</td>\n",
       "      <td>120.599097</td>\n",
       "      <td>126.864514</td>\n",
       "      <td>87.054678</td>\n",
       "      <td>120.680619</td>\n",
       "      <td>126.942916</td>\n",
       "      <td>87.054678</td>\n",
       "      <td>120.680619</td>\n",
       "      <td>126.942916</td>\n",
       "    </tr>\n",
       "    <tr>\n",
       "      <th>943</th>\n",
       "      <td>0</td>\n",
       "      <td>93.959792</td>\n",
       "      <td>126.125000</td>\n",
       "      <td>133.201667</td>\n",
       "      <td>93.998445</td>\n",
       "      <td>126.148239</td>\n",
       "      <td>133.220685</td>\n",
       "      <td>93.998445</td>\n",
       "      <td>126.148239</td>\n",
       "      <td>133.220685</td>\n",
       "    </tr>\n",
       "    <tr>\n",
       "      <th>944</th>\n",
       "      <td>0</td>\n",
       "      <td>97.611458</td>\n",
       "      <td>138.749722</td>\n",
       "      <td>147.535556</td>\n",
       "      <td>97.666640</td>\n",
       "      <td>138.802897</td>\n",
       "      <td>147.588234</td>\n",
       "      <td>97.666640</td>\n",
       "      <td>138.802897</td>\n",
       "      <td>147.588234</td>\n",
       "    </tr>\n",
       "  </tbody>\n",
       "</table>\n",
       "<p>945 rows × 10 columns</p>\n",
       "</div>"
      ],
      "text/plain": [
       "     Label      mean_R      mean_G      mean_B      mean_H      mean_S  \\\n",
       "0        2  134.798056  139.753194  145.931181  134.903384  139.859221   \n",
       "1        2  100.593819  110.971389  119.214583  100.680827  111.048557   \n",
       "2        2  101.401944  107.086319  112.265417  101.474474  107.149306   \n",
       "3        2   89.585208   95.478681  100.848194   89.669226   95.557454   \n",
       "4        2   91.824722   78.282153   76.967014   92.062306   78.510976   \n",
       "..     ...         ...         ...         ...         ...         ...   \n",
       "940      0  109.405417  142.006250  152.755764  109.433232  142.046233   \n",
       "941      0   88.357639  113.505556  119.748958   88.401675  113.530210   \n",
       "942      0   86.973819  120.599097  126.864514   87.054678  120.680619   \n",
       "943      0   93.959792  126.125000  133.201667   93.998445  126.148239   \n",
       "944      0   97.611458  138.749722  147.535556   97.666640  138.802897   \n",
       "\n",
       "         mean_V      mean_L      mean_a      mean_b  \n",
       "0    146.034415  134.903384  139.859221  146.034415  \n",
       "1    119.294443  100.680827  111.048557  119.294443  \n",
       "2    112.337891  101.474474  107.149306  112.337891  \n",
       "3    100.932183   89.669226   95.557454  100.932183  \n",
       "4     77.195913   92.062306   78.510976   77.195913  \n",
       "..          ...         ...         ...         ...  \n",
       "940  152.793674  109.433232  142.046233  152.793674  \n",
       "941  119.774911   88.401675  113.530210  119.774911  \n",
       "942  126.942916   87.054678  120.680619  126.942916  \n",
       "943  133.220685   93.998445  126.148239  133.220685  \n",
       "944  147.588234   97.666640  138.802897  147.588234  \n",
       "\n",
       "[945 rows x 10 columns]"
      ]
     },
     "execution_count": 166,
     "metadata": {},
     "output_type": "execute_result"
    }
   ],
   "source": [
    "DataframeTr"
   ]
  },
  {
   "cell_type": "code",
   "execution_count": null,
   "id": "0c97be6a",
   "metadata": {},
   "outputs": [],
   "source": []
  },
  {
   "cell_type": "code",
   "execution_count": 167,
   "id": "948ffe7a",
   "metadata": {},
   "outputs": [],
   "source": [
    "#TESTING IMAGE\n",
    "#ekstrak fitur\n",
    "ts_mean_R = []\n",
    "ts_mean_B = []\n",
    "ts_mean_G = []\n",
    "ts_mean_H = []\n",
    "ts_mean_S = []\n",
    "ts_mean_V = []\n",
    "ts_mean_L = []\n",
    "ts_mean_a = []\n",
    "ts_mean_b = []\n",
    "\n",
    "#EKSTRAK RGB\n",
    "for i in os.listdir(testing_path):\n",
    "    img=cv2.imread(os.path.join(testing_path,i))  #gabungin setiap foto dari path training \n",
    "    img = cv2.cvtColor(img, cv2.COLOR_RGB2BGR)\n",
    "    img=cv2.resize(img,(120,120))   #resize semua gambarnya\n",
    "    ts_avg_R = np.mean(img[:, :, 2])\n",
    "    ts_avg_G = np.mean(img[:, :, 1])\n",
    "    ts_avg_B = np.mean(img[:, :, 0])\n",
    "    ts_mean_R.append(ts_avg_R)\n",
    "    ts_mean_G.append(ts_avg_G)\n",
    "    ts_mean_B.append(ts_avg_B)  \n",
    "ts_mean_R = np.array(ts_mean_R)\n",
    "ts_mean_G = np.array(ts_mean_G)\n",
    "ts_mean_B = np.array(ts_mean_B)\n",
    "\n",
    "#EKSTRAK HSV\n",
    "for i in os.listdir(testing_path):\n",
    "    img=cv2.imread(os.path.join(testing_path,i))  #gabungin setiap foto dari path training \n",
    "    imghsv = cv2.cvtColor(img, cv2.COLOR_RGB2HSV)\n",
    "    imghsv=cv2.resize(imghsv,(120,120))   #resize semua gambarnya\n",
    "    ts_avg_H = np.mean(img[:, :, 0])\n",
    "    ts_avg_S = np.mean(img[:, :, 1])\n",
    "    ts_avg_V = np.mean(img[:, :, 2])\n",
    "    ts_mean_H.append(ts_avg_H)\n",
    "    ts_mean_S.append(ts_avg_S)\n",
    "    ts_mean_V.append(ts_avg_V)  \n",
    "ts_mean_H = np.array(ts_mean_H)\n",
    "ts_mean_S = np.array(ts_mean_S)\n",
    "ts_mean_V = np.array(ts_mean_V)\n",
    "\n",
    "#EKSTRAK Lab\n",
    "for i in os.listdir(testing_path):\n",
    "    img=cv2.imread(os.path.join(testing_path,i))  #gabungin setiap foto dari path training \n",
    "    imglab = cv2.cvtColor(img, cv2.COLOR_RGB2LAB)\n",
    "    imglab=cv2.resize(imglab,(120,120))   #resize semua gambarnya\n",
    "    ts_avg_L = np.mean(img[:, :, 0])\n",
    "    ts_avg_a = np.mean(img[:, :, 1])\n",
    "    ts_avg_b = np.mean(img[:, :, 2])\n",
    "    ts_mean_L.append(ts_avg_L)\n",
    "    ts_mean_a.append(ts_avg_a)\n",
    "    ts_mean_b.append(ts_avg_b)  \n",
    "ts_mean_L = np.array(ts_mean_L)\n",
    "ts_mean_a = np.array(ts_mean_a)\n",
    "ts_mean_b = np.array(ts_mean_b)\n",
    "\n",
    "#ekstrak label\n",
    "test_label=[]\n",
    "for i in os.listdir(testing_path):\n",
    "    if i.split(\" \")[0] == \"underripe\":\n",
    "        test_label.append(0)\n",
    "    elif i.split(\" \")[0] ==\"ripe\":\n",
    "        test_label.append(1)\n",
    "    elif i.split(\" \")[0] == \"overripe\":\n",
    "        test_label.append(2)\n",
    "test_label = np.array(test_label)"
   ]
  },
  {
   "cell_type": "code",
   "execution_count": 168,
   "id": "c8c5f409",
   "metadata": {},
   "outputs": [],
   "source": [
    "#Dibikin dataframe\n",
    "import pandas as pd\n",
    "DataframeTs = pd.DataFrame()\n",
    "DataframeTs['Label'] = test_label\n",
    "DataframeTs['mean_R'] = ts_mean_R\n",
    "DataframeTs['mean_G'] = ts_mean_G\n",
    "DataframeTs['mean_B'] = ts_mean_B\n",
    "DataframeTs['mean_H'] = ts_mean_H\n",
    "DataframeTs['mean_S'] = ts_mean_S\n",
    "DataframeTs['mean_V'] = ts_mean_V\n",
    "DataframeTs['mean_L'] = ts_mean_L\n",
    "DataframeTs['mean_a'] = ts_mean_a\n",
    "DataframeTs['mean_b'] = ts_mean_b"
   ]
  },
  {
   "cell_type": "code",
   "execution_count": 169,
   "id": "143922e3",
   "metadata": {},
   "outputs": [
    {
     "data": {
      "text/html": [
       "<div>\n",
       "<style scoped>\n",
       "    .dataframe tbody tr th:only-of-type {\n",
       "        vertical-align: middle;\n",
       "    }\n",
       "\n",
       "    .dataframe tbody tr th {\n",
       "        vertical-align: top;\n",
       "    }\n",
       "\n",
       "    .dataframe thead th {\n",
       "        text-align: right;\n",
       "    }\n",
       "</style>\n",
       "<table border=\"1\" class=\"dataframe\">\n",
       "  <thead>\n",
       "    <tr style=\"text-align: right;\">\n",
       "      <th></th>\n",
       "      <th>Label</th>\n",
       "      <th>mean_R</th>\n",
       "      <th>mean_G</th>\n",
       "      <th>mean_B</th>\n",
       "      <th>mean_H</th>\n",
       "      <th>mean_S</th>\n",
       "      <th>mean_V</th>\n",
       "      <th>mean_L</th>\n",
       "      <th>mean_a</th>\n",
       "      <th>mean_b</th>\n",
       "    </tr>\n",
       "  </thead>\n",
       "  <tbody>\n",
       "    <tr>\n",
       "      <th>0</th>\n",
       "      <td>2</td>\n",
       "      <td>53.074514</td>\n",
       "      <td>100.913889</td>\n",
       "      <td>133.522292</td>\n",
       "      <td>53.143374</td>\n",
       "      <td>100.988598</td>\n",
       "      <td>133.602024</td>\n",
       "      <td>53.143374</td>\n",
       "      <td>100.988598</td>\n",
       "      <td>133.602024</td>\n",
       "    </tr>\n",
       "    <tr>\n",
       "      <th>1</th>\n",
       "      <td>2</td>\n",
       "      <td>103.214653</td>\n",
       "      <td>110.547917</td>\n",
       "      <td>120.978611</td>\n",
       "      <td>103.310762</td>\n",
       "      <td>110.635276</td>\n",
       "      <td>121.056609</td>\n",
       "      <td>103.310762</td>\n",
       "      <td>110.635276</td>\n",
       "      <td>121.056609</td>\n",
       "    </tr>\n",
       "    <tr>\n",
       "      <th>2</th>\n",
       "      <td>2</td>\n",
       "      <td>99.224514</td>\n",
       "      <td>103.605694</td>\n",
       "      <td>105.350208</td>\n",
       "      <td>99.257297</td>\n",
       "      <td>103.656141</td>\n",
       "      <td>105.397805</td>\n",
       "      <td>99.257297</td>\n",
       "      <td>103.656141</td>\n",
       "      <td>105.397805</td>\n",
       "    </tr>\n",
       "    <tr>\n",
       "      <th>3</th>\n",
       "      <td>2</td>\n",
       "      <td>84.806944</td>\n",
       "      <td>71.548125</td>\n",
       "      <td>69.143472</td>\n",
       "      <td>84.956570</td>\n",
       "      <td>71.699237</td>\n",
       "      <td>69.296559</td>\n",
       "      <td>84.956570</td>\n",
       "      <td>71.699237</td>\n",
       "      <td>69.296559</td>\n",
       "    </tr>\n",
       "    <tr>\n",
       "      <th>4</th>\n",
       "      <td>2</td>\n",
       "      <td>49.454722</td>\n",
       "      <td>92.945625</td>\n",
       "      <td>122.135556</td>\n",
       "      <td>49.541522</td>\n",
       "      <td>93.026910</td>\n",
       "      <td>122.221806</td>\n",
       "      <td>49.541522</td>\n",
       "      <td>93.026910</td>\n",
       "      <td>122.221806</td>\n",
       "    </tr>\n",
       "    <tr>\n",
       "      <th>...</th>\n",
       "      <td>...</td>\n",
       "      <td>...</td>\n",
       "      <td>...</td>\n",
       "      <td>...</td>\n",
       "      <td>...</td>\n",
       "      <td>...</td>\n",
       "      <td>...</td>\n",
       "      <td>...</td>\n",
       "      <td>...</td>\n",
       "      <td>...</td>\n",
       "    </tr>\n",
       "    <tr>\n",
       "      <th>232</th>\n",
       "      <td>0</td>\n",
       "      <td>64.059792</td>\n",
       "      <td>115.739931</td>\n",
       "      <td>127.749236</td>\n",
       "      <td>64.129114</td>\n",
       "      <td>115.803069</td>\n",
       "      <td>127.818025</td>\n",
       "      <td>64.129114</td>\n",
       "      <td>115.803069</td>\n",
       "      <td>127.818025</td>\n",
       "    </tr>\n",
       "    <tr>\n",
       "      <th>233</th>\n",
       "      <td>0</td>\n",
       "      <td>74.184583</td>\n",
       "      <td>81.148056</td>\n",
       "      <td>83.353264</td>\n",
       "      <td>74.288981</td>\n",
       "      <td>81.253120</td>\n",
       "      <td>83.455259</td>\n",
       "      <td>74.288981</td>\n",
       "      <td>81.253120</td>\n",
       "      <td>83.455259</td>\n",
       "    </tr>\n",
       "    <tr>\n",
       "      <th>234</th>\n",
       "      <td>0</td>\n",
       "      <td>115.776806</td>\n",
       "      <td>125.402292</td>\n",
       "      <td>122.882083</td>\n",
       "      <td>115.859899</td>\n",
       "      <td>125.484266</td>\n",
       "      <td>122.967104</td>\n",
       "      <td>115.859899</td>\n",
       "      <td>125.484266</td>\n",
       "      <td>122.967104</td>\n",
       "    </tr>\n",
       "    <tr>\n",
       "      <th>235</th>\n",
       "      <td>0</td>\n",
       "      <td>106.673750</td>\n",
       "      <td>122.922917</td>\n",
       "      <td>128.133194</td>\n",
       "      <td>106.797418</td>\n",
       "      <td>123.047074</td>\n",
       "      <td>128.254937</td>\n",
       "      <td>106.797418</td>\n",
       "      <td>123.047074</td>\n",
       "      <td>128.254937</td>\n",
       "    </tr>\n",
       "    <tr>\n",
       "      <th>236</th>\n",
       "      <td>0</td>\n",
       "      <td>94.684861</td>\n",
       "      <td>119.487708</td>\n",
       "      <td>123.440000</td>\n",
       "      <td>94.766529</td>\n",
       "      <td>119.562943</td>\n",
       "      <td>123.519604</td>\n",
       "      <td>94.766529</td>\n",
       "      <td>119.562943</td>\n",
       "      <td>123.519604</td>\n",
       "    </tr>\n",
       "  </tbody>\n",
       "</table>\n",
       "<p>237 rows × 10 columns</p>\n",
       "</div>"
      ],
      "text/plain": [
       "     Label      mean_R      mean_G      mean_B      mean_H      mean_S  \\\n",
       "0        2   53.074514  100.913889  133.522292   53.143374  100.988598   \n",
       "1        2  103.214653  110.547917  120.978611  103.310762  110.635276   \n",
       "2        2   99.224514  103.605694  105.350208   99.257297  103.656141   \n",
       "3        2   84.806944   71.548125   69.143472   84.956570   71.699237   \n",
       "4        2   49.454722   92.945625  122.135556   49.541522   93.026910   \n",
       "..     ...         ...         ...         ...         ...         ...   \n",
       "232      0   64.059792  115.739931  127.749236   64.129114  115.803069   \n",
       "233      0   74.184583   81.148056   83.353264   74.288981   81.253120   \n",
       "234      0  115.776806  125.402292  122.882083  115.859899  125.484266   \n",
       "235      0  106.673750  122.922917  128.133194  106.797418  123.047074   \n",
       "236      0   94.684861  119.487708  123.440000   94.766529  119.562943   \n",
       "\n",
       "         mean_V      mean_L      mean_a      mean_b  \n",
       "0    133.602024   53.143374  100.988598  133.602024  \n",
       "1    121.056609  103.310762  110.635276  121.056609  \n",
       "2    105.397805   99.257297  103.656141  105.397805  \n",
       "3     69.296559   84.956570   71.699237   69.296559  \n",
       "4    122.221806   49.541522   93.026910  122.221806  \n",
       "..          ...         ...         ...         ...  \n",
       "232  127.818025   64.129114  115.803069  127.818025  \n",
       "233   83.455259   74.288981   81.253120   83.455259  \n",
       "234  122.967104  115.859899  125.484266  122.967104  \n",
       "235  128.254937  106.797418  123.047074  128.254937  \n",
       "236  123.519604   94.766529  119.562943  123.519604  \n",
       "\n",
       "[237 rows x 10 columns]"
      ]
     },
     "execution_count": 169,
     "metadata": {},
     "output_type": "execute_result"
    }
   ],
   "source": [
    "DataframeTs"
   ]
  },
  {
   "cell_type": "code",
   "execution_count": 170,
   "id": "6e0f1459",
   "metadata": {},
   "outputs": [],
   "source": [
    "#Misahin fitur dan label untuk bangun model\n",
    "xtrain = DataframeTr[[\"mean_R\",\"mean_G\",\"mean_B\",\"mean_H\",\"mean_a\"]]\n",
    "ytrain = DataframeTr[['Label']]\n",
    "xtest = DataframeTs[[\"mean_R\",\"mean_G\",\"mean_B\",\"mean_H\",\"mean_a\"]]\n",
    "ytest = DataframeTs[['Label']]\n"
   ]
  },
  {
   "cell_type": "code",
   "execution_count": 177,
   "id": "0ecf65c4",
   "metadata": {},
   "outputs": [
    {
     "name": "stderr",
     "output_type": "stream",
     "text": [
      "C:\\Users\\ACER\\AppData\\Local\\Temp\\ipykernel_14800\\2246014423.py:4: DataConversionWarning: A column-vector y was passed when a 1d array was expected. Please change the shape of y to (n_samples,), for example using ravel().\n",
      "  rmodel.fit(xtrain,ytrain)\n"
     ]
    },
    {
     "data": {
      "text/html": [
       "<style>#sk-container-id-11 {color: black;background-color: white;}#sk-container-id-11 pre{padding: 0;}#sk-container-id-11 div.sk-toggleable {background-color: white;}#sk-container-id-11 label.sk-toggleable__label {cursor: pointer;display: block;width: 100%;margin-bottom: 0;padding: 0.3em;box-sizing: border-box;text-align: center;}#sk-container-id-11 label.sk-toggleable__label-arrow:before {content: \"▸\";float: left;margin-right: 0.25em;color: #696969;}#sk-container-id-11 label.sk-toggleable__label-arrow:hover:before {color: black;}#sk-container-id-11 div.sk-estimator:hover label.sk-toggleable__label-arrow:before {color: black;}#sk-container-id-11 div.sk-toggleable__content {max-height: 0;max-width: 0;overflow: hidden;text-align: left;background-color: #f0f8ff;}#sk-container-id-11 div.sk-toggleable__content pre {margin: 0.2em;color: black;border-radius: 0.25em;background-color: #f0f8ff;}#sk-container-id-11 input.sk-toggleable__control:checked~div.sk-toggleable__content {max-height: 200px;max-width: 100%;overflow: auto;}#sk-container-id-11 input.sk-toggleable__control:checked~label.sk-toggleable__label-arrow:before {content: \"▾\";}#sk-container-id-11 div.sk-estimator input.sk-toggleable__control:checked~label.sk-toggleable__label {background-color: #d4ebff;}#sk-container-id-11 div.sk-label input.sk-toggleable__control:checked~label.sk-toggleable__label {background-color: #d4ebff;}#sk-container-id-11 input.sk-hidden--visually {border: 0;clip: rect(1px 1px 1px 1px);clip: rect(1px, 1px, 1px, 1px);height: 1px;margin: -1px;overflow: hidden;padding: 0;position: absolute;width: 1px;}#sk-container-id-11 div.sk-estimator {font-family: monospace;background-color: #f0f8ff;border: 1px dotted black;border-radius: 0.25em;box-sizing: border-box;margin-bottom: 0.5em;}#sk-container-id-11 div.sk-estimator:hover {background-color: #d4ebff;}#sk-container-id-11 div.sk-parallel-item::after {content: \"\";width: 100%;border-bottom: 1px solid gray;flex-grow: 1;}#sk-container-id-11 div.sk-label:hover label.sk-toggleable__label {background-color: #d4ebff;}#sk-container-id-11 div.sk-serial::before {content: \"\";position: absolute;border-left: 1px solid gray;box-sizing: border-box;top: 0;bottom: 0;left: 50%;z-index: 0;}#sk-container-id-11 div.sk-serial {display: flex;flex-direction: column;align-items: center;background-color: white;padding-right: 0.2em;padding-left: 0.2em;position: relative;}#sk-container-id-11 div.sk-item {position: relative;z-index: 1;}#sk-container-id-11 div.sk-parallel {display: flex;align-items: stretch;justify-content: center;background-color: white;position: relative;}#sk-container-id-11 div.sk-item::before, #sk-container-id-11 div.sk-parallel-item::before {content: \"\";position: absolute;border-left: 1px solid gray;box-sizing: border-box;top: 0;bottom: 0;left: 50%;z-index: -1;}#sk-container-id-11 div.sk-parallel-item {display: flex;flex-direction: column;z-index: 1;position: relative;background-color: white;}#sk-container-id-11 div.sk-parallel-item:first-child::after {align-self: flex-end;width: 50%;}#sk-container-id-11 div.sk-parallel-item:last-child::after {align-self: flex-start;width: 50%;}#sk-container-id-11 div.sk-parallel-item:only-child::after {width: 0;}#sk-container-id-11 div.sk-dashed-wrapped {border: 1px dashed gray;margin: 0 0.4em 0.5em 0.4em;box-sizing: border-box;padding-bottom: 0.4em;background-color: white;}#sk-container-id-11 div.sk-label label {font-family: monospace;font-weight: bold;display: inline-block;line-height: 1.2em;}#sk-container-id-11 div.sk-label-container {text-align: center;}#sk-container-id-11 div.sk-container {/* jupyter's `normalize.less` sets `[hidden] { display: none; }` but bootstrap.min.css set `[hidden] { display: none !important; }` so we also need the `!important` here to be able to override the default hidden behavior on the sphinx rendered scikit-learn.org. See: https://github.com/scikit-learn/scikit-learn/issues/21755 */display: inline-block !important;position: relative;}#sk-container-id-11 div.sk-text-repr-fallback {display: none;}</style><div id=\"sk-container-id-11\" class=\"sk-top-container\"><div class=\"sk-text-repr-fallback\"><pre>RandomForestClassifier()</pre><b>In a Jupyter environment, please rerun this cell to show the HTML representation or trust the notebook. <br />On GitHub, the HTML representation is unable to render, please try loading this page with nbviewer.org.</b></div><div class=\"sk-container\" hidden><div class=\"sk-item\"><div class=\"sk-estimator sk-toggleable\"><input class=\"sk-toggleable__control sk-hidden--visually\" id=\"sk-estimator-id-11\" type=\"checkbox\" checked><label for=\"sk-estimator-id-11\" class=\"sk-toggleable__label sk-toggleable__label-arrow\">RandomForestClassifier</label><div class=\"sk-toggleable__content\"><pre>RandomForestClassifier()</pre></div></div></div></div></div>"
      ],
      "text/plain": [
       "RandomForestClassifier()"
      ]
     },
     "execution_count": 177,
     "metadata": {},
     "output_type": "execute_result"
    }
   ],
   "source": [
    "#Bikin model randomforest\n",
    "from sklearn.ensemble import RandomForestClassifier\n",
    "rmodel=RandomForestClassifier(n_estimators=100)\n",
    "rmodel.fit(xtrain,ytrain)"
   ]
  },
  {
   "cell_type": "code",
   "execution_count": 178,
   "id": "3c6c991f",
   "metadata": {},
   "outputs": [
    {
     "data": {
      "text/plain": [
       "0.6413502109704642"
      ]
     },
     "execution_count": 178,
     "metadata": {},
     "output_type": "execute_result"
    }
   ],
   "source": [
    "#akurasinya #2\n",
    "rmodel.score(xtest,ytest)"
   ]
  },
  {
   "cell_type": "code",
   "execution_count": null,
   "id": "2e78bf67",
   "metadata": {},
   "outputs": [],
   "source": []
  },
  {
   "cell_type": "markdown",
   "id": "d1a9a7c8",
   "metadata": {},
   "source": [
    "## VERSI 4.0 Coba pakai hasil segmentasi"
   ]
  },
  {
   "cell_type": "code",
   "execution_count": 35,
   "id": "6bf217ce",
   "metadata": {},
   "outputs": [
    {
     "name": "stdout",
     "output_type": "stream",
     "text": [
      "Data berhasil dibagi menjadi folder pelatihan dan pengujian.\n",
      "Jumlah data pelatihan: 948\n",
      "Jumlah data pengujian: 238\n"
     ]
    }
   ],
   "source": [
    "folder_path = '../Tugas Akhir/tes2/segmented/SegmentedByPy/Segmented'  # Path folder yang berisi gambar\n",
    "training_path= '../Tugas Akhir/tes2/segmented/SegmentedByPy/training'  # Path folder untuk data pelatihan\n",
    "testing_path = '../Tugas Akhir/tes2/segmented/SegmentedByPy/testing'  # Path folder untuk data pengujian\n",
    "split_ratio = 0.8  # Rasio pembagian data (misalnya 0.8 berarti 80% pelatihan dan 20% pengujian)\n",
    "\n",
    "# Membuat folder untuk data pelatihan dan pengujian jika belum ada\n",
    "# os.makedirs(training, exist_ok=True)\n",
    "# os.makedirs(testing, exist_ok=True)\n",
    "\n",
    "# Mengambil daftar nama file gambar dalam folder\n",
    "img_files = os.listdir(folder_path)\n",
    "\n",
    "# Mengacak urutan file gambar\n",
    "random.shuffle(img_files)\n",
    "\n",
    "# # Menghitung jumlah data untuk pelatihan dan pengujian berdasarkan rasio pembagian\n",
    "train_count = int(len(img_files) * split_ratio)\n",
    "test_count = len(img_files) - train_count\n",
    "\n",
    "# # Memindahkan data gambar ke folder pelatihan dan pengujian\n",
    "for i, filename in enumerate(img_files):\n",
    "    src_path = os.path.join(folder_path, filename)\n",
    "    if i < train_count:\n",
    "        dst_path = os.path.join(training_path, filename)\n",
    "    else:\n",
    "        dst_path = os.path.join(testing_path, filename)\n",
    "    shutil.copy(src_path, dst_path)\n",
    "\n",
    "print('Data berhasil dibagi menjadi folder pelatihan dan pengujian.')\n",
    "print('Jumlah data pelatihan:', train_count)\n",
    "print('Jumlah data pengujian:', test_count)"
   ]
  },
  {
   "cell_type": "code",
   "execution_count": 36,
   "id": "cb44d74b",
   "metadata": {},
   "outputs": [],
   "source": [
    "labels=[]\n",
    "for i in os.listdir(folder_path):\n",
    "    if i.split(\" \")[0] == \"segmented_underripe\":\n",
    "        labels.append(0)\n",
    "    elif i.split(\" \")[0] ==\"segmented_ripe\":\n",
    "        labels.append(1)\n",
    "    elif i.split(\" \")[0] == \"segmented_overripe\":\n",
    "        labels.append(2)\n",
    "    else: \n",
    "        print(i)"
   ]
  },
  {
   "cell_type": "code",
   "execution_count": 37,
   "id": "ce293015",
   "metadata": {},
   "outputs": [],
   "source": [
    "#TRAINING\n",
    "train_loc = '../Tugas Akhir/tes2/segmented/SegmentedByPy/training'\n",
    "#ekstrak fitur\n",
    "train_img1=[]     #list for features\n",
    "for i in os.listdir(train_loc):\n",
    "    img=cv2.imread(os.path.join(train_loc,i))  #joining the path of each image in the loop \n",
    "    img = cv2.cvtColor(img, cv2.COLOR_RGB2BGR)\n",
    "    resized=cv2.resize(img,(120,120))   #resizing all imgaes to reduce computation and also give each image a dimension\n",
    "    train_img1.append(resized)\n",
    "    \n",
    "train_img2 = []  # list for features\n",
    "for i in os.listdir(train_loc):\n",
    "    img = cv2.imread(os.path.join(train_loc, i))  # joining the path of each image in the loop\n",
    "    img_hsv = cv2.cvtColor(img, cv2.COLOR_RGB2HSV)\n",
    "    h_channel = img_hsv[:, :, 0]  # Accessing only the H (hue) channel\n",
    "    resized=cv2.resize(h_channel,(120,120)) \n",
    "    train_img2.append(resized)\n",
    "    \n",
    "train_img3 = []  # list for features\n",
    "for i in os.listdir(train_loc):\n",
    "    img = cv2.imread(os.path.join(train_loc, i))  # joining the path of each image in the loop \n",
    "    img_lab = cv2.cvtColor(img, cv2.COLOR_RGB2LAB)\n",
    "    a_channel = img_lab[:, :, 1]  # Accessing only the a channel\n",
    "    resized=cv2.resize(a_channel,(120,120)) \n",
    "    train_img3.append(resized)\n",
    "\n",
    "train_img1 = np.array(train_img1)\n",
    "train_img2 = np.array(train_img2)\n",
    "train_img3 = np.array(train_img3)\n",
    "\n",
    "train_fitur = np.empty((len(train_img1), 120, 120, 5), dtype=np.uint8)\n",
    "train_fitur[:, :, :, :3] = train_img1[:, :, :, 2::-1]  # R, G, B channels from gambar_arr\n",
    "train_fitur[:, :, :, 3] = train_img2  # H channel from gembor_arr\n",
    "train_fitur[:, :, :, 4] = train_img3  # a channel from gember_arr\n",
    "\n",
    "train_label=[]\n",
    "for i in os.listdir(train_loc):\n",
    "    if i.split(\" \")[0] == \"segmented_underripe\":\n",
    "        train_label.append(0)\n",
    "    elif i.split(\" \")[0] ==\"segmented_ripe\":\n",
    "        train_label.append(1)\n",
    "    elif i.split(\" \")[0] == \"segmented_overripe\":\n",
    "        train_label.append(2)\n",
    "train_label = np.array(train_label)"
   ]
  },
  {
   "cell_type": "code",
   "execution_count": 38,
   "id": "953d5b4c",
   "metadata": {},
   "outputs": [],
   "source": [
    "test_loc = '../Tugas Akhir/tes2/segmented/SegmentedByPy/testing'\n",
    "#TESTING\n",
    "#ekstrak fitur\n",
    "test_img1=[]     #list for features\n",
    "for i in os.listdir(test_loc):\n",
    "    img=cv2.imread(os.path.join(test_loc,i))  #joining the path of each image in the loop \n",
    "    img = cv2.cvtColor(img, cv2.COLOR_RGB2BGR)\n",
    "    resized=cv2.resize(img,(120,120))   #resizing all imgaes to reduce computation and also give each image a dimension\n",
    "    test_img1.append(resized)\n",
    "    \n",
    "test_img2 = []  # list for features\n",
    "for i in os.listdir(test_loc):\n",
    "    img = cv2.imread(os.path.join(test_loc, i))  # joining the path of each image in the loop\n",
    "    img_hsv = cv2.cvtColor(img, cv2.COLOR_RGB2HSV)\n",
    "    h_channel = img_hsv[:, :, 0]  # Accessing only the H (hue) channel\n",
    "    resized=cv2.resize(h_channel,(120,120)) \n",
    "    test_img2.append(resized)\n",
    "    \n",
    "test_img3 = []  # list for features\n",
    "for i in os.listdir(test_loc):\n",
    "    img = cv2.imread(os.path.join(test_loc, i))  # joining the path of each image in the loop \n",
    "    img_lab = cv2.cvtColor(img, cv2.COLOR_RGB2LAB)\n",
    "    a_channel = img_lab[:, :, 1]  # Accessing only the a channel\n",
    "    resized=cv2.resize(a_channel,(120,120)) \n",
    "    test_img3.append(resized)\n",
    "\n",
    "test_img1 = np.array(test_img1)\n",
    "test_img2 = np.array(test_img2)\n",
    "test_img3 = np.array(test_img3)\n",
    "\n",
    "test_fitur = np.empty((len(test_img1), 120, 120, 5), dtype=np.uint8)\n",
    "test_fitur[:, :, :, :3] = test_img1[:, :, :, 2::-1]  # R, G, B channels from gambar_arr\n",
    "test_fitur[:, :, :, 3] = test_img2  # H channel from gembor_arr\n",
    "test_fitur[:, :, :, 4] = test_img3  # a channel from gember_arr\n",
    "\n",
    "test_label=[]\n",
    "for i in os.listdir(test_loc):\n",
    "    if i.split(\" \")[0] == \"segmented_underripe\":\n",
    "        test_label.append(0)\n",
    "    elif i.split(\" \")[0] ==\"segmented_ripe\":\n",
    "        test_label.append(1)\n",
    "    elif i.split(\" \")[0] == \"segmented_overripe\":\n",
    "        test_label.append(2)\n",
    "    else: print(i)\n",
    "test_label = np.array(test_label)"
   ]
  },
  {
   "cell_type": "code",
   "execution_count": 39,
   "id": "11c19835",
   "metadata": {},
   "outputs": [],
   "source": [
    "#DATA SPLITING\n",
    "Xtrain, Xtest = train_fitur, test_fitur\n",
    "Ytrain, Ytest = train_label, test_label"
   ]
  },
  {
   "cell_type": "code",
   "execution_count": 40,
   "id": "491fde77",
   "metadata": {},
   "outputs": [
    {
     "name": "stdout",
     "output_type": "stream",
     "text": [
      "(948, 120, 120, 5)\n",
      "(238, 120, 120, 5)\n",
      "(948,)\n",
      "(238,)\n"
     ]
    }
   ],
   "source": [
    "print(Xtrain.shape)\n",
    "print(Xtest.shape)\n",
    "print(Ytrain.shape)\n",
    "print(Ytest.shape)"
   ]
  },
  {
   "cell_type": "code",
   "execution_count": 41,
   "id": "a9693d35",
   "metadata": {},
   "outputs": [],
   "source": [
    "#Reshape\n",
    "Xtr = train_fitur.reshape(948,72000)\n",
    "#Reshape\n",
    "Xts = test_fitur.reshape(238,72000)"
   ]
  },
  {
   "cell_type": "code",
   "execution_count": 48,
   "id": "4b3edb2e",
   "metadata": {},
   "outputs": [
    {
     "data": {
      "text/html": [
       "<style>#sk-container-id-4 {color: black;background-color: white;}#sk-container-id-4 pre{padding: 0;}#sk-container-id-4 div.sk-toggleable {background-color: white;}#sk-container-id-4 label.sk-toggleable__label {cursor: pointer;display: block;width: 100%;margin-bottom: 0;padding: 0.3em;box-sizing: border-box;text-align: center;}#sk-container-id-4 label.sk-toggleable__label-arrow:before {content: \"▸\";float: left;margin-right: 0.25em;color: #696969;}#sk-container-id-4 label.sk-toggleable__label-arrow:hover:before {color: black;}#sk-container-id-4 div.sk-estimator:hover label.sk-toggleable__label-arrow:before {color: black;}#sk-container-id-4 div.sk-toggleable__content {max-height: 0;max-width: 0;overflow: hidden;text-align: left;background-color: #f0f8ff;}#sk-container-id-4 div.sk-toggleable__content pre {margin: 0.2em;color: black;border-radius: 0.25em;background-color: #f0f8ff;}#sk-container-id-4 input.sk-toggleable__control:checked~div.sk-toggleable__content {max-height: 200px;max-width: 100%;overflow: auto;}#sk-container-id-4 input.sk-toggleable__control:checked~label.sk-toggleable__label-arrow:before {content: \"▾\";}#sk-container-id-4 div.sk-estimator input.sk-toggleable__control:checked~label.sk-toggleable__label {background-color: #d4ebff;}#sk-container-id-4 div.sk-label input.sk-toggleable__control:checked~label.sk-toggleable__label {background-color: #d4ebff;}#sk-container-id-4 input.sk-hidden--visually {border: 0;clip: rect(1px 1px 1px 1px);clip: rect(1px, 1px, 1px, 1px);height: 1px;margin: -1px;overflow: hidden;padding: 0;position: absolute;width: 1px;}#sk-container-id-4 div.sk-estimator {font-family: monospace;background-color: #f0f8ff;border: 1px dotted black;border-radius: 0.25em;box-sizing: border-box;margin-bottom: 0.5em;}#sk-container-id-4 div.sk-estimator:hover {background-color: #d4ebff;}#sk-container-id-4 div.sk-parallel-item::after {content: \"\";width: 100%;border-bottom: 1px solid gray;flex-grow: 1;}#sk-container-id-4 div.sk-label:hover label.sk-toggleable__label {background-color: #d4ebff;}#sk-container-id-4 div.sk-serial::before {content: \"\";position: absolute;border-left: 1px solid gray;box-sizing: border-box;top: 0;bottom: 0;left: 50%;z-index: 0;}#sk-container-id-4 div.sk-serial {display: flex;flex-direction: column;align-items: center;background-color: white;padding-right: 0.2em;padding-left: 0.2em;position: relative;}#sk-container-id-4 div.sk-item {position: relative;z-index: 1;}#sk-container-id-4 div.sk-parallel {display: flex;align-items: stretch;justify-content: center;background-color: white;position: relative;}#sk-container-id-4 div.sk-item::before, #sk-container-id-4 div.sk-parallel-item::before {content: \"\";position: absolute;border-left: 1px solid gray;box-sizing: border-box;top: 0;bottom: 0;left: 50%;z-index: -1;}#sk-container-id-4 div.sk-parallel-item {display: flex;flex-direction: column;z-index: 1;position: relative;background-color: white;}#sk-container-id-4 div.sk-parallel-item:first-child::after {align-self: flex-end;width: 50%;}#sk-container-id-4 div.sk-parallel-item:last-child::after {align-self: flex-start;width: 50%;}#sk-container-id-4 div.sk-parallel-item:only-child::after {width: 0;}#sk-container-id-4 div.sk-dashed-wrapped {border: 1px dashed gray;margin: 0 0.4em 0.5em 0.4em;box-sizing: border-box;padding-bottom: 0.4em;background-color: white;}#sk-container-id-4 div.sk-label label {font-family: monospace;font-weight: bold;display: inline-block;line-height: 1.2em;}#sk-container-id-4 div.sk-label-container {text-align: center;}#sk-container-id-4 div.sk-container {/* jupyter's `normalize.less` sets `[hidden] { display: none; }` but bootstrap.min.css set `[hidden] { display: none !important; }` so we also need the `!important` here to be able to override the default hidden behavior on the sphinx rendered scikit-learn.org. See: https://github.com/scikit-learn/scikit-learn/issues/21755 */display: inline-block !important;position: relative;}#sk-container-id-4 div.sk-text-repr-fallback {display: none;}</style><div id=\"sk-container-id-4\" class=\"sk-top-container\"><div class=\"sk-text-repr-fallback\"><pre>RandomForestClassifier()</pre><b>In a Jupyter environment, please rerun this cell to show the HTML representation or trust the notebook. <br />On GitHub, the HTML representation is unable to render, please try loading this page with nbviewer.org.</b></div><div class=\"sk-container\" hidden><div class=\"sk-item\"><div class=\"sk-estimator sk-toggleable\"><input class=\"sk-toggleable__control sk-hidden--visually\" id=\"sk-estimator-id-4\" type=\"checkbox\" checked><label for=\"sk-estimator-id-4\" class=\"sk-toggleable__label sk-toggleable__label-arrow\">RandomForestClassifier</label><div class=\"sk-toggleable__content\"><pre>RandomForestClassifier()</pre></div></div></div></div></div>"
      ],
      "text/plain": [
       "RandomForestClassifier()"
      ]
     },
     "execution_count": 48,
     "metadata": {},
     "output_type": "execute_result"
    }
   ],
   "source": [
    "#MODELING RF\n",
    "from sklearn.ensemble import RandomForestClassifier\n",
    "rmodel=RandomForestClassifier(n_estimators = 100)\n",
    "rmodel.fit(Xtr,Ytrain)"
   ]
  },
  {
   "cell_type": "code",
   "execution_count": 49,
   "id": "743e227e",
   "metadata": {},
   "outputs": [
    {
     "data": {
      "text/plain": [
       "0.7184873949579832"
      ]
     },
     "execution_count": 49,
     "metadata": {},
     "output_type": "execute_result"
    }
   ],
   "source": [
    "#akurasinya rf\n",
    "rmodel.score(Xts,Ytest)"
   ]
  },
  {
   "cell_type": "code",
   "execution_count": null,
   "id": "740d244a",
   "metadata": {},
   "outputs": [],
   "source": []
  },
  {
   "cell_type": "code",
   "execution_count": 19,
   "id": "0861ffd5",
   "metadata": {},
   "outputs": [],
   "source": []
  },
  {
   "cell_type": "code",
   "execution_count": null,
   "id": "5e01a732",
   "metadata": {},
   "outputs": [],
   "source": []
  }
 ],
 "metadata": {
  "kernelspec": {
   "display_name": "Python 3 (ipykernel)",
   "language": "python",
   "name": "python3"
  },
  "language_info": {
   "codemirror_mode": {
    "name": "ipython",
    "version": 3
   },
   "file_extension": ".py",
   "mimetype": "text/x-python",
   "name": "python",
   "nbconvert_exporter": "python",
   "pygments_lexer": "ipython3",
   "version": "3.10.5"
  }
 },
 "nbformat": 4,
 "nbformat_minor": 5
}
