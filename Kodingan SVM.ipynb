{
 "cells": [
  {
   "cell_type": "code",
   "execution_count": 2,
   "metadata": {},
   "outputs": [],
   "source": [
    "import os\n",
    "import zipfile\n",
    "import random\n",
    "import shutil\n",
    "from shutil import copyfile\n"
   ]
  },
  {
   "cell_type": "code",
   "execution_count": 3,
   "id": "0a091826",
   "metadata": {},
   "outputs": [
    {
     "name": "stdout",
     "output_type": "stream",
     "text": [
      "Ada 407 gambar underripe.\n",
      "Ada 344 gambar ripe.\n",
      "Ada 435 gambar overripe.\n"
     ]
    }
   ],
   "source": [
    "source_path = './banana_data/img'\n",
    "\n",
    "source_path_under = os.path.join(source_path, 'underripe')\n",
    "source_path_ripe = os.path.join(source_path, 'ripe')\n",
    "source_path_over = os.path.join(source_path, 'overripe')\n",
    "\n",
    "#Menampilkan banyak citra tiap folder\n",
    "print(f\"Ada {len(os.listdir(source_path_under))} gambar underripe.\")\n",
    "print(f\"Ada {len(os.listdir(source_path_ripe))} gambar ripe.\")\n",
    "print(f\"Ada {len(os.listdir(source_path_over))} gambar overripe.\")"
   ]
  },
  {
   "cell_type": "code",
   "execution_count": 4,
   "id": "cc7f8f45",
   "metadata": {},
   "outputs": [],
   "source": [
    "# Root direktori\n",
    "root_dir = './banana_data/data'\n",
    "\n",
    "# Direktori kosong untuk mencegah FileExistsError \n",
    "if os.path.exists(root_dir):\n",
    "  shutil.rmtree(root_dir)\n",
    "  \n",
    "# create_train_test_dirs\n",
    "def create_train_test_dirs(root_path):\n",
    "  os.makedirs(os.path.join(root_path, 'training'))\n",
    "  os.makedirs(os.path.join(f'{root_path}/training', 'under'))\n",
    "  os.makedirs(os.path.join(f'{root_path}/training', 'ripe'))\n",
    "  os.makedirs(os.path.join(f'{root_path}/training', 'over'))\n",
    "  os.makedirs(os.path.join(root_path, 'testing'))\n",
    "  os.makedirs(os.path.join(f'{root_path}/testing', 'under'))\n",
    "  os.makedirs(os.path.join(f'{root_path}/testing', 'ripe'))\n",
    "  os.makedirs(os.path.join(f'{root_path}/testing', 'over'))\n",
    "\n",
    "try:\n",
    "  create_train_test_dirs(root_path=root_dir)\n",
    "except FileExistsError:\n",
    "  print(\"You should not be seeing this since the upper directory is removed beforehand\")"
   ]
  },
  {
   "cell_type": "code",
   "execution_count": 5,
   "id": "b47f7b64",
   "metadata": {},
   "outputs": [
    {
     "name": "stdout",
     "output_type": "stream",
     "text": [
      "./banana_data/data\\testing\n",
      "./banana_data/data\\training\n",
      "./banana_data/data\\testing\\over\n",
      "./banana_data/data\\testing\\ripe\n",
      "./banana_data/data\\testing\\under\n",
      "./banana_data/data\\training\\over\n",
      "./banana_data/data\\training\\ripe\n",
      "./banana_data/data\\training\\under\n"
     ]
    }
   ],
   "source": [
    "# Test create_train_test_dirs function\n",
    "for rootdir, dirs, files in os.walk(root_dir):\n",
    "    for subdir in dirs:\n",
    "        print(os.path.join(rootdir, subdir))"
   ]
  },
  {
   "cell_type": "code",
   "execution_count": 6,
   "id": "44aca91f",
   "metadata": {},
   "outputs": [],
   "source": [
    "# FUNCTION: split_data\n",
    "def split_data(SOURCE, TRAINING, TESTING, SPLIT_SIZE):\n",
    "    # Shuffle list\n",
    "    shuffled_source = random.sample(os.listdir(SOURCE), len(os.listdir(SOURCE)))\n",
    "    # Find total number of files in training dir\n",
    "    training_number = int(len(shuffled_source) * SPLIT_SIZE)\n",
    "    i = 0\n",
    "    target = TRAINING\n",
    "\n",
    "    for item in shuffled_source:\n",
    "        item_source = os.path.join(SOURCE, item)\n",
    "        if os.path.getsize(item_source) == 0:\n",
    "            print(f'{item} is zero length, so ignoring.')\n",
    "        else: \n",
    "            copyfile(item_source, os.path.join(target, item))\n",
    "            i += 1\n",
    "\n",
    "    # Switch copy target to TESTING\n",
    "        if i == training_number:\n",
    "            target = TESTING"
   ]
  },
  {
   "cell_type": "code",
   "execution_count": 16,
   "id": "138e9179",
   "metadata": {},
   "outputs": [
    {
     "name": "stdout",
     "output_type": "stream",
     "text": [
      "\n",
      "\n",
      "Ada 393 gambar underripe training\n",
      "Ada 334 gambar ripe training\n",
      "Ada 417 gambar overripe training\n",
      "\n",
      "Ada 150 gambar underripe testing\n",
      "Ada 128 gambar ripe testing\n",
      "Ada 156 gambar overripe testing\n"
     ]
    }
   ],
   "source": [
    "# Test split_data function\n",
    "# Define paths\n",
    "under_SOURCE_DIR = './banana_data/img/underripe'\n",
    "ripe_SOURCE_DIR = './banana_data/img/ripe'\n",
    "over_SOURCE_DIR = './banana_data/img/overripe'\n",
    "\n",
    "TRAINING_DIR = './banana_data/data/training'\n",
    "TESTING_DIR = './banana_data/data/testing'\n",
    "\n",
    "TRAINING_UNDER_DIR = os.path.join(TRAINING_DIR, \"under/\")\n",
    "TESTING_UNDER_DIR = os.path.join(TESTING_DIR, \"under/\")\n",
    "\n",
    "TRAINING_RIPE_DIR = os.path.join(TRAINING_DIR, \"ripe/\")\n",
    "TESTING_RIPE_DIR = os.path.join(TESTING_DIR, \"ripe/\")\n",
    "\n",
    "TRAINING_OVERRIPE_DIR = os.path.join(TRAINING_DIR, \"over/\")\n",
    "TESTING_OVERRIPE_DIR = os.path.join(TESTING_DIR, \"over/\")\n",
    "\n",
    "# Empty directories in case you run this cell multiple times\n",
    "# if len(os.listdir(TRAINING_UNDER_DIR)) > 0:\n",
    "#   for file in os.scandir(TRAINING_UNDER_DIR):\n",
    "#     os.remove(file.path)\n",
    "# if len(os.listdir(TRAINING_RIPE_DIR)) > 0:\n",
    "#   for file in os.scandir(TRAINING_RIPE_DIR):\n",
    "#     os.remove(file.path)\n",
    "# if len(os.listdir(TRAINING_OVERRIPE_DIR)) > 0:\n",
    "#   for file in os.scandir(TRAINING_OVERRIPE_DIR):\n",
    "#     os.remove(file.path)\n",
    "# if len(os.listdir(TESTING_UNDER_DIR)) > 0:\n",
    "#   for file in os.scandir(TESTING_UNDER_DIR):\n",
    "#     os.remove(file.path)\n",
    "# if len(os.listdir(TESTING_RIPE_DIR)) > 0:\n",
    "#   for file in os.scandir(TESTING_RIPE_DIR):\n",
    "#     os.remove(file.path)\n",
    "# if len(os.listdir(TESTING_OVERRIPE_DIR)) > 0:\n",
    "#   for file in os.scandir(TESTING_OVERRIPE_DIR):\n",
    "#     os.remove(file.path)\n",
    "    \n",
    "# Define proporsi training data\n",
    "split_size = .8\n",
    "\n",
    "# Run the function\n",
    "split_data(under_SOURCE_DIR, TRAINING_UNDER_DIR, TESTING_UNDER_DIR, split_size)\n",
    "split_data(ripe_SOURCE_DIR, TRAINING_RIPE_DIR, TESTING_RIPE_DIR, split_size)\n",
    "split_data(over_SOURCE_DIR, TRAINING_OVERRIPE_DIR, TESTING_OVERRIPE_DIR, split_size)\n",
    "\n",
    "# Check that the number of images matches the expected output\n",
    "print(f\"\\n\\nAda {len(os.listdir(TRAINING_UNDER_DIR))} gambar underripe training\")\n",
    "print(f\"Ada {len(os.listdir(TRAINING_RIPE_DIR))} gambar ripe training\")\n",
    "print(f\"Ada {len(os.listdir(TRAINING_OVERRIPE_DIR))} gambar overripe training\\n\")\n",
    "print(f\"Ada {len(os.listdir(TESTING_UNDER_DIR))} gambar underripe testing\")\n",
    "print(f\"Ada {len(os.listdir(TESTING_RIPE_DIR))} gambar ripe testing\")\n",
    "print(f\"Ada {len(os.listdir(TESTING_OVERRIPE_DIR))} gambar overripe testing\")"
   ]
  },
  {
   "attachments": {},
   "cell_type": "markdown",
   "id": "94bed824",
   "metadata": {},
   "source": [
    "# Coretan Abin"
   ]
  },
  {
   "cell_type": "code",
   "execution_count": 19,
   "id": "8fa82bb7",
   "metadata": {},
   "outputs": [],
   "source": [
    "import cv2\n",
    "import numpy as np\n",
    "\n",
    "# Buka citra\n",
    "image = cv2.imread(r'./banana_data/img/overripe/overripe (2).jpg')\n",
    "\n",
    "# Konversi ke ruang warna HSV\n",
    "hsv_image = cv2.cvtColor(image, cv2.COLOR_BGR2HSV)\n",
    "\n",
    "# Tentukan range warna pisang dalam HSV\n",
    "lower_yellow = np.array([10, 80, 100])\n",
    "upper_yellow = np.array([30, 215, 255])\n",
    "\n",
    "# Buat mask berdasarkan range warna pisang\n",
    "mask = cv2.inRange(hsv_image, lower_yellow, upper_yellow)\n",
    "mask = cv2.medianBlur(mask, 169)\n",
    "# Aplikasikan mask ke citra asli untuk segmentasi\n",
    "segmented_image = cv2.bitwise_and(image, image, mask=mask)\n",
    "\n",
    "# Tampilkan citra hasil segmentasi\n",
    "cv2.imshow('Segmented Image', segmented_image)\n",
    "cv2.waitKey(0)\n",
    "cv2.destroyAllWindows()"
   ]
  }
 ],
 "metadata": {
  "kernelspec": {
   "display_name": "Python 3",
   "language": "python",
   "name": "python3"
  },
  "language_info": {
   "codemirror_mode": {
    "name": "ipython",
    "version": 3
   },
   "file_extension": ".py",
   "mimetype": "text/x-python",
   "name": "python",
   "nbconvert_exporter": "python",
   "pygments_lexer": "ipython3",
   "version": "3.10.5"
  }
 },
 "nbformat": 4,
 "nbformat_minor": 5
}
